{
 "cells": [
  {
   "cell_type": "code",
   "execution_count": 226,
   "source": [
    "from llama2_assets import prompt_llama2\n",
    "import transformers\n",
    "import pandas as pd"
   ],
   "outputs": [],
   "metadata": {}
  },
  {
   "cell_type": "code",
   "execution_count": 44,
   "source": [
    "df = pd.read_csv(\"data/results.csv\", names = ['index','number','president','speech_title','website','speech'])"
   ],
   "outputs": [],
   "metadata": {}
  },
  {
   "cell_type": "code",
   "execution_count": 45,
   "source": [
    "from bs4 import BeautifulSoup\n",
    "\n",
    "def remove_html_tags(input_string):\n",
    "    soup = BeautifulSoup(input_string, \"html.parser\")\n",
    "    cleaned_string = soup.get_text()\n",
    "    if cleaned_string[-2:] == \", \":\n",
    "        return cleaned_string[:-2]\n",
    "    else:\n",
    "        return cleaned_string\n"
   ],
   "outputs": [],
   "metadata": {}
  },
  {
   "cell_type": "code",
   "execution_count": 89,
   "source": [
    "df['speech'][5500]"
   ],
   "outputs": [
    {
     "output_type": "execute_result",
     "data": {
      "text/plain": [
       "'[<p>PRESIDENT LOPEZ PORTILLO. Mr. President of the United States of America, James Carter, Mrs. Carter, ladies and gentlemen:</p>, <p>It has been 2 years now since we met for the first time. Since then, a great deal of water has flowed under the bridges of the Rio Grande. A great deal has also happened within our countries and between our countries, as it has in the world and to the world.</p>, <p>United by geography and the borders that scar it, and immersed in the conflicts of a sometimes bitter and invariably complex history, we have set out to order our conduct as neighbors according to the precepts of law and, even more important, on the favorable basis of mutual friendship. This implies good will, expressed in terms of respectful, fair, and worthy treatment.</p>, <p>Today, 2 years later, it is only fitting that we evaluate our objectives and face the facts that confront us. We know better now what each expects of the other, but I believe we also know that we have not yet put our friendship to the test, since we have not yet decided what we are willing to make of our relationship. We can view it as a problem, or we can think of it as a conflict. In the first case, there are solutions, which would be welcomed by our friends; in the second, confrontation, which would give joy to our enemies.</p>, <p>We know that in a world characterized by extraordinary and difficult changes and by the readjustment of forces, interests, resources, and positions, your great country is still in the process of redefining its policies and that this makes your decisions all the more difficult.</p>, <p>Nevertheless, we see in you a leader who has sought to revive the moral foundations of the political institutions of the United States. With great personal integrity, you have sought to replace provisional arrangements with lasting agreements.</p>, <p>That is what we are hoping for. That is what we are determined to do. Our peoples want definitive agreements, not circumstantial concessions.</p>, <p>Among permanent, not casual, neighbors, surprise moves and sudden deceit or abuse are poisonous fruits that sooner or later have a reverse effect.</p>, <p>Consequently, we must take a longrange view of ourselves. No injustice can prevail without affronting decency and dignity.</p>, <p>It is difficult, particularly among neighbors, to maintain cordial and mutually advantageous relations in an atmosphere of mistrust or open hostility.</p>, <p>We do not wish to view our history as one that uselessly anchors us, like so many pillars of salt, to a burden of resentment, just as we would not like you to contemplate your future in terms of the risks of silent migration. Neither anchors nor silence must impede our dealings with one another.</p>, <p>A good-neighbor policy presupposes a general climate of opinion in which respect prevails over prejudice and intelligence over sectarianism.</p>, <p>Over our 3,000 kilometers of common border, we are the most representative example of North-South relations—the confluence of two expanding civilizations, formerly separated by the desert, but now closely linked by a complex series of conurbations and exchanges.</p>, <p>But no matter how greatly our relations may have been intensified, they are neither exclusive nor excluding. As a world power, the United States is increasing its presence and its commitments on all continents. Mexico, as an independent country, recognizes no limitations on the diversification of its exchanges, other than its principles and its development requirements.</p>, <p>It is in that light that we must view the complex phenomenon of our interrelationship, which should never be confused with dependence, integration, or the blurring of borders. The two countries complement and need each other, but neither would want to depend on the other to the point of nullifying its own sovereign will, reducing the scope of its international activities, or losing its self-respect.</p>, <p>All this requires thoroughgoing analysis; we must not sacrifice what is important for the sake of what is urgent nor neglect international and continuing needs in favor of local and transitory interests. Thus, we must keep a firm grasp on matters of basic importance in devising solutions to our immediate problems.</p>, <p>Today, the United States is readjusting its power and influence in an irrational world that refuses to take rights and obligations into account in its pursual of its interests and outbreaks of violence, a world in which Manichaean political structures impede development and make underdevelopment even more distressing. Meanwhile, supranational economic hegemonies—devoid of any sense of social responsibility and recognizing no country as their own—are dividing up the world among themselves and winning out over sovereign nations.</p>, <p>And today, in this same world and for the first time in its history, Mexico, because of a nonrenewable resource and the financial self-determination it provides, has been given the opportunity of becoming the free, secure, and just nation envisaged by its great leaders of the past, a nation ruled by the principles of a revolution that has evolved into a government and determined to live in peace nurtured by respect for the rights of others—a simple maxim, perhaps, but a valid one.</p>, <p>Mexico has thus suddenly found itself the center of American attention—attention that is a surprising mixture of interest, disdain, and fear, much like the recurring vague fears you yourselves inspire in certain areas of our national subconscious.</p>, <p>You and I, Mr. President, have the task of dealing with the problem, of rationalizing realities and prejudices, and fulfilling our responsibility to our nations by keeping insensitivity, ambition, fear, or self-seeking manipulation of illusions from casting a shadow on a relationship founded on friendship or eliminating any possibility of understanding.</p>, <p>Let us seek only lasting solutions—good faith and fair play—nothing that would make us lose the respect of our children.</p>, <p>Multilateral relations, economic order, trade and prices, demography, finance, currency, drugs, energy sources—land, sea, air, or gas—migratory labor, or human rights and all their associated questions constitute agendas that call for varying degrees of attention. What must not vary are the principles on which our relations are based, and the most fundamental of these is treating others as we ourselves would like to be treated. That is a canon that holds true for both men and nations, the test of our good will and the measure of our deeds.</p>, <p>It is with such good will that, within the context of that relationship, I want to assume my temporary responsibility for the permanent destiny of my people, which, like you, I have sworn to serve and have no right to endanger. I am certain that you feel the same way, and in token of this, let us join in a toast as we hope to join our wills.<br/><br/>\\nI thank you.</p>, <p>PRESIDENT CARTER. Mr. President, Mrs. Lopez Portillo, distinguished guests who\\'ve come here both from the great nation of Mexico and from the United States:</p>, <p>President Lopez Portillo and I have, in the short time together on this visit, found that we have many things in common. We both represent great nations; we both have found an interest in archeology; we both must deal with difficult questions like energy and the control of inflation. We both look across the flowing waters of the Rio Grande with interest, expressions of friendship, concern, sometimes a lack of understanding, but a determination to make the future brighter.</p>, <p>We both have beautiful and interesting wives, and we both run several kilometers every day. [Laughter] As a matter of fact, I told President Lopez Portillo that I first acquired my habit of running here in Mexico City. My first running course was from the Palace of Fine Arts to the Majestic Hotel, where me and my family were staying. In the midst of the Folklorico performance, I discovered that I was afflicted with Montezuma\\'s revenge. [Laughter]</p>, <p>We have also noticed some remarkable changes at that time. My wife and I and my three sons stayed at the Majestic Hotel on the Zocalo for about a week, and we paid each day, $5.50. The view itself was worth that price.</p>, <p>At the end of my visit, I will have the honor of speaking to the Congress of Mexico. In your address to the United States Congress 2 years ago, Mr. President, you said, and I quote, \"Mexico bas never been, nor is it now, the leader of any continent or group of countries.\" I respect this modest view of your nation\\'s role. Yet our world is changing very rapidly. It is no longer divided into monolithic ideological nor military blocs. The southern tier of our planet, the so-called developing world, is asserting its rights and the responsibilities that go with those rights. And no one can deny that Mexico\\'s new strength, Mexico\\'s new confidence, and Mexico\\'s new importance in the world economy are casting your country in a new world role.</p>, <p>We seek to appreciate the individuality of each independent nation and to guide our own policies accordingly. My administration and the people of our country recognize the uniqueness of Mexico. By your own choice, as you have said, Mr. President, Mexico is not the leader of any bloc, but on many global issues the independent voice of Mexico is heard with increasing strength and persuasiveness.</p>, <p>Mexico\\'s voice is heard, for example, on the crucial issue of the world\\'s economic system—to make it more just, more equitable, and how to increase the participation of the people of the developing world. Because of the different levels of development, economically speaking, of our two countries, our respective visions of the pace and the kind of change are somewhat different. But our dialog is a creative one, beneficial to all countries of the world, regardless of the degree of their industrialization.</p>, <p>Mexico\\'s voice is heard as an advocate of a truly international approach to human rights. The Mexican people have a history of long and successful struggle, not only for national independence but for social justice and the dignity of the individual.</p>, <p>Mexico has used its influence on behalf of internationally recognized standards of human rights, both political and economic. This has been one of my own most deeply felt concerns.</p>, <p>Our policies, both foreign and domestic, must reflect our values as a people. Those of us who are national leaders have a responsibility to speak out when human rights are violated abroad, and we also have a responsibility to protect human rights at home. That extends to the basic human rights of all those who, for whatever reason, are within the borders of our countries.</p>, <p>The struggle for human rights is not a static thing. It offers new challenges to every generation. During the 1960\\'s in the United States, we enacted new laws to protect the civil and voting rights of all citizens regardless of language, race, or color. Here in Mexico, Mr. President, you\\'ve initiated an important political reform and an amnesty law, evidence of your belief in open debate and in the accommodation of opposing views.</p>, <p>Finally, and most important, the voice of Mexico is heard in the service of world peace. Your government has worked long and hard to control weapons and armaments, both nuclear and conventional, both in this hemisphere and throughout the world. It would not be going too far to say that of all the major countries on Earth, there is none more dedicated to arms control and more opposed to militarism than Mexico.</p>, <p>The leaders of this great country have taken an extremely important initiative in the Treaty of Tlatelolco, a treaty that was signed here at this place. This effort to make this region of the entire world into a nuclear weapons-free zone is one of the most creative steps that any country has taken since the invention of these terrible weapons of nuclear destruction.</p>, <p>Your approach is both visionary and practical, a difficult combination to achieve. I hope and I trust that it will serve as a model for other regions on Earth. And in the United Nations and elsewhere, you have [been]<sup>1</sup> similarly creative in trying to stanch the spread of conventional arms.</p>, <p><sup>1</sup> Printed in the transcript.</p>, <p>We welcome Mexico\\'s advocacy of these issues. Though our two countries may not agree with each other in every particular, there is a sense of shared concern and shared values which underline our relationships.</p>, <p>In the spirit of mutual respect and mutual regard and with great admiration, Mr. President, I look forward to continuing to work with you toward a world community of justice, diversity, and peace.</p>, <p>And now, I would like to propose a toast, Mr. President: First, to the health of the President of Mexico and to Mrs. Lopez Portillo, to the continuing friendship and cooperation of the peoples of Mexico and the peoples of the United States of America, and to what we most desire, peace throughout the world.<br/><br/>\\nThank you.</p>]'"
      ]
     },
     "metadata": {},
     "execution_count": 89
    }
   ],
   "metadata": {}
  },
  {
   "cell_type": "code",
   "execution_count": 90,
   "source": [
    "import re\n",
    "def ensure_correct_speaker(cleaned_string):\n",
    "    matches = re.findall(r'[A-Z ]', cleaned_string)\n",
    "    if matches:\n",
    "        if len(matches) == 1:\n",
    "            matches = matches[0]\n",
    "            if \"PRESIDENT:\" in matches:\n",
    "                return cleaned_string.replace(matches+\" \",\"\")\n",
    "    else:\n",
    "        return cleaned_string\n"
   ],
   "outputs": [],
   "metadata": {}
  },
  {
   "cell_type": "code",
   "execution_count": 173,
   "source": [
    "def ensure_no_other_speakers(speech):\n",
    "    matches = re.findall(r'\\b[A-Z\\s]+\\b[:.]', speech)\n",
    "    if len(matches) <= 1:\n",
    "        if matches: \n",
    "            speaker = matches[0]\n",
    "            if \"PRESIDENT\" in speaker: \n",
    "                return speech.replace(speaker,'')[1:] \n",
    "        else:\n",
    "            return speech\n"
   ],
   "outputs": [],
   "metadata": {}
  },
  {
   "cell_type": "code",
   "execution_count": 174,
   "source": [
    "ensure_no_other_speakers(\"PRESIDENT: Thanks\")"
   ],
   "outputs": [
    {
     "output_type": "execute_result",
     "data": {
      "text/plain": [
       "'Thanks'"
      ]
     },
     "metadata": {},
     "execution_count": 174
    }
   ],
   "metadata": {}
  },
  {
   "cell_type": "code",
   "execution_count": 175,
   "source": [
    "ensure_no_other_speakers(\"MARCY. Thank you.\")"
   ],
   "outputs": [],
   "metadata": {}
  },
  {
   "cell_type": "code",
   "execution_count": 176,
   "source": [
    "def parse_dictation(dictation):\n",
    "    dictation = remove_html_tags(dictation)\n",
    "    return ensure_no_other_speakers(dictation)"
   ],
   "outputs": [],
   "metadata": {}
  },
  {
   "cell_type": "code",
   "execution_count": 227,
   "source": [
    "df = df[['president','speech_title','speech']]\n",
    "\n",
    "samples = []\n",
    "for index, row in df.iterrows():\n",
    "    speech = [x for x in row['speech'].replace(\"[\",\"\").replace(\"[\",\"\").split(\"<p>\") if x != '']\n",
    "    name = row['president']\n",
    "    for dictation in speech:\n",
    "        parsed_dictation = parse_dictation(dictation)\n",
    "        if parsed_dictation:\n",
    "            samples.append({\"speaker\":name, \"text\":parsed_dictation})\n",
    "\n",
    "pd.DataFrame(samples).to_csv('data/cleaned.csv')"
   ],
   "outputs": [
    {
     "output_type": "error",
     "ename": "KeyboardInterrupt",
     "evalue": "",
     "traceback": [
      "\u001b[0;31m---------------------------------------------------------------------------\u001b[0m",
      "\u001b[0;31mKeyboardInterrupt\u001b[0m                         Traceback (most recent call last)",
      "Cell \u001b[0;32mIn[227], line 8\u001b[0m\n\u001b[1;32m      6\u001b[0m name \u001b[38;5;241m=\u001b[39m row[\u001b[38;5;124m'\u001b[39m\u001b[38;5;124mpresident\u001b[39m\u001b[38;5;124m'\u001b[39m]\n\u001b[1;32m      7\u001b[0m \u001b[38;5;28;01mfor\u001b[39;00m dictation \u001b[38;5;129;01min\u001b[39;00m speech:\n\u001b[0;32m----> 8\u001b[0m     parsed_dictation \u001b[38;5;241m=\u001b[39m \u001b[43mparse_dictation\u001b[49m\u001b[43m(\u001b[49m\u001b[43mdictation\u001b[49m\u001b[43m)\u001b[49m\n\u001b[1;32m      9\u001b[0m     \u001b[38;5;28;01mif\u001b[39;00m parsed_dictation:\n\u001b[1;32m     10\u001b[0m         samples\u001b[38;5;241m.\u001b[39mappend({\u001b[38;5;124m\"\u001b[39m\u001b[38;5;124mspeaker\u001b[39m\u001b[38;5;124m\"\u001b[39m:name, \u001b[38;5;124m\"\u001b[39m\u001b[38;5;124mtext\u001b[39m\u001b[38;5;124m\"\u001b[39m:parsed_dictation})\n",
      "Cell \u001b[0;32mIn[176], line 2\u001b[0m, in \u001b[0;36mparse_dictation\u001b[0;34m(dictation)\u001b[0m\n\u001b[1;32m      1\u001b[0m \u001b[38;5;28;01mdef\u001b[39;00m \u001b[38;5;21mparse_dictation\u001b[39m(dictation):\n\u001b[0;32m----> 2\u001b[0m     dictation \u001b[38;5;241m=\u001b[39m \u001b[43mremove_html_tags\u001b[49m\u001b[43m(\u001b[49m\u001b[43mdictation\u001b[49m\u001b[43m)\u001b[49m\n\u001b[1;32m      3\u001b[0m     \u001b[38;5;28;01mreturn\u001b[39;00m ensure_no_other_speakers(dictation)\n",
      "Cell \u001b[0;32mIn[45], line 4\u001b[0m, in \u001b[0;36mremove_html_tags\u001b[0;34m(input_string)\u001b[0m\n\u001b[1;32m      3\u001b[0m \u001b[38;5;28;01mdef\u001b[39;00m \u001b[38;5;21mremove_html_tags\u001b[39m(input_string):\n\u001b[0;32m----> 4\u001b[0m     soup \u001b[38;5;241m=\u001b[39m \u001b[43mBeautifulSoup\u001b[49m\u001b[43m(\u001b[49m\u001b[43minput_string\u001b[49m\u001b[43m,\u001b[49m\u001b[43m \u001b[49m\u001b[38;5;124;43m\"\u001b[39;49m\u001b[38;5;124;43mhtml.parser\u001b[39;49m\u001b[38;5;124;43m\"\u001b[39;49m\u001b[43m)\u001b[49m\n\u001b[1;32m      5\u001b[0m     cleaned_string \u001b[38;5;241m=\u001b[39m soup\u001b[38;5;241m.\u001b[39mget_text()\n\u001b[1;32m      6\u001b[0m     \u001b[38;5;28;01mif\u001b[39;00m cleaned_string[\u001b[38;5;241m-\u001b[39m\u001b[38;5;241m2\u001b[39m:] \u001b[38;5;241m==\u001b[39m \u001b[38;5;124m\"\u001b[39m\u001b[38;5;124m, \u001b[39m\u001b[38;5;124m\"\u001b[39m:\n",
      "File \u001b[0;32m~/Documents/presidential_sentiment/pres_sent/lib/python3.9/site-packages/bs4/__init__.py:335\u001b[0m, in \u001b[0;36mBeautifulSoup.__init__\u001b[0;34m(self, markup, features, builder, parse_only, from_encoding, exclude_encodings, element_classes, **kwargs)\u001b[0m\n\u001b[1;32m    333\u001b[0m \u001b[38;5;28mself\u001b[39m\u001b[38;5;241m.\u001b[39mbuilder\u001b[38;5;241m.\u001b[39minitialize_soup(\u001b[38;5;28mself\u001b[39m)\n\u001b[1;32m    334\u001b[0m \u001b[38;5;28;01mtry\u001b[39;00m:\n\u001b[0;32m--> 335\u001b[0m     \u001b[38;5;28;43mself\u001b[39;49m\u001b[38;5;241;43m.\u001b[39;49m\u001b[43m_feed\u001b[49m\u001b[43m(\u001b[49m\u001b[43m)\u001b[49m\n\u001b[1;32m    336\u001b[0m     success \u001b[38;5;241m=\u001b[39m \u001b[38;5;28;01mTrue\u001b[39;00m\n\u001b[1;32m    337\u001b[0m     \u001b[38;5;28;01mbreak\u001b[39;00m\n",
      "File \u001b[0;32m~/Documents/presidential_sentiment/pres_sent/lib/python3.9/site-packages/bs4/__init__.py:478\u001b[0m, in \u001b[0;36mBeautifulSoup._feed\u001b[0;34m(self)\u001b[0m\n\u001b[1;32m    475\u001b[0m \u001b[38;5;66;03m# Convert the document to Unicode.\u001b[39;00m\n\u001b[1;32m    476\u001b[0m \u001b[38;5;28mself\u001b[39m\u001b[38;5;241m.\u001b[39mbuilder\u001b[38;5;241m.\u001b[39mreset()\n\u001b[0;32m--> 478\u001b[0m \u001b[38;5;28;43mself\u001b[39;49m\u001b[38;5;241;43m.\u001b[39;49m\u001b[43mbuilder\u001b[49m\u001b[38;5;241;43m.\u001b[39;49m\u001b[43mfeed\u001b[49m\u001b[43m(\u001b[49m\u001b[38;5;28;43mself\u001b[39;49m\u001b[38;5;241;43m.\u001b[39;49m\u001b[43mmarkup\u001b[49m\u001b[43m)\u001b[49m\n\u001b[1;32m    479\u001b[0m \u001b[38;5;66;03m# Close out any unfinished strings and close all the open tags.\u001b[39;00m\n\u001b[1;32m    480\u001b[0m \u001b[38;5;28mself\u001b[39m\u001b[38;5;241m.\u001b[39mendData()\n",
      "File \u001b[0;32m~/Documents/presidential_sentiment/pres_sent/lib/python3.9/site-packages/bs4/builder/_htmlparser.py:380\u001b[0m, in \u001b[0;36mHTMLParserTreeBuilder.feed\u001b[0;34m(self, markup)\u001b[0m\n\u001b[1;32m    378\u001b[0m parser\u001b[38;5;241m.\u001b[39msoup \u001b[38;5;241m=\u001b[39m \u001b[38;5;28mself\u001b[39m\u001b[38;5;241m.\u001b[39msoup\n\u001b[1;32m    379\u001b[0m \u001b[38;5;28;01mtry\u001b[39;00m:\n\u001b[0;32m--> 380\u001b[0m     \u001b[43mparser\u001b[49m\u001b[38;5;241;43m.\u001b[39;49m\u001b[43mfeed\u001b[49m\u001b[43m(\u001b[49m\u001b[43mmarkup\u001b[49m\u001b[43m)\u001b[49m\n\u001b[1;32m    381\u001b[0m \u001b[38;5;28;01mexcept\u001b[39;00m \u001b[38;5;167;01mAssertionError\u001b[39;00m \u001b[38;5;28;01mas\u001b[39;00m e:\n\u001b[1;32m    382\u001b[0m     \u001b[38;5;66;03m# html.parser raises AssertionError in rare cases to\u001b[39;00m\n\u001b[1;32m    383\u001b[0m     \u001b[38;5;66;03m# indicate a fatal problem with the markup, especially\u001b[39;00m\n\u001b[1;32m    384\u001b[0m     \u001b[38;5;66;03m# when there's an error in the doctype declaration.\u001b[39;00m\n\u001b[1;32m    385\u001b[0m     \u001b[38;5;28;01mraise\u001b[39;00m ParserRejectedMarkup(e)\n",
      "File \u001b[0;32m~/miniforge3/lib/python3.9/html/parser.py:110\u001b[0m, in \u001b[0;36mHTMLParser.feed\u001b[0;34m(self, data)\u001b[0m\n\u001b[1;32m    104\u001b[0m \u001b[38;5;250m\u001b[39m\u001b[38;5;124mr\u001b[39m\u001b[38;5;124;03m\"\"\"Feed data to the parser.\u001b[39;00m\n\u001b[1;32m    105\u001b[0m \n\u001b[1;32m    106\u001b[0m \u001b[38;5;124;03mCall this as often as you want, with as little or as much text\u001b[39;00m\n\u001b[1;32m    107\u001b[0m \u001b[38;5;124;03mas you want (may include '\\n').\u001b[39;00m\n\u001b[1;32m    108\u001b[0m \u001b[38;5;124;03m\"\"\"\u001b[39;00m\n\u001b[1;32m    109\u001b[0m \u001b[38;5;28mself\u001b[39m\u001b[38;5;241m.\u001b[39mrawdata \u001b[38;5;241m=\u001b[39m \u001b[38;5;28mself\u001b[39m\u001b[38;5;241m.\u001b[39mrawdata \u001b[38;5;241m+\u001b[39m data\n\u001b[0;32m--> 110\u001b[0m \u001b[38;5;28;43mself\u001b[39;49m\u001b[38;5;241;43m.\u001b[39;49m\u001b[43mgoahead\u001b[49m\u001b[43m(\u001b[49m\u001b[38;5;241;43m0\u001b[39;49m\u001b[43m)\u001b[49m\n",
      "File \u001b[0;32m~/miniforge3/lib/python3.9/html/parser.py:170\u001b[0m, in \u001b[0;36mHTMLParser.goahead\u001b[0;34m(self, end)\u001b[0m\n\u001b[1;32m    168\u001b[0m \u001b[38;5;28;01mif\u001b[39;00m startswith(\u001b[38;5;124m'\u001b[39m\u001b[38;5;124m<\u001b[39m\u001b[38;5;124m'\u001b[39m, i):\n\u001b[1;32m    169\u001b[0m     \u001b[38;5;28;01mif\u001b[39;00m starttagopen\u001b[38;5;241m.\u001b[39mmatch(rawdata, i): \u001b[38;5;66;03m# < + letter\u001b[39;00m\n\u001b[0;32m--> 170\u001b[0m         k \u001b[38;5;241m=\u001b[39m \u001b[38;5;28;43mself\u001b[39;49m\u001b[38;5;241;43m.\u001b[39;49m\u001b[43mparse_starttag\u001b[49m\u001b[43m(\u001b[49m\u001b[43mi\u001b[49m\u001b[43m)\u001b[49m\n\u001b[1;32m    171\u001b[0m     \u001b[38;5;28;01melif\u001b[39;00m startswith(\u001b[38;5;124m\"\u001b[39m\u001b[38;5;124m</\u001b[39m\u001b[38;5;124m\"\u001b[39m, i):\n\u001b[1;32m    172\u001b[0m         k \u001b[38;5;241m=\u001b[39m \u001b[38;5;28mself\u001b[39m\u001b[38;5;241m.\u001b[39mparse_endtag(i)\n",
      "File \u001b[0;32m~/miniforge3/lib/python3.9/html/parser.py:344\u001b[0m, in \u001b[0;36mHTMLParser.parse_starttag\u001b[0;34m(self, i)\u001b[0m\n\u001b[1;32m    342\u001b[0m     \u001b[38;5;28mself\u001b[39m\u001b[38;5;241m.\u001b[39mhandle_startendtag(tag, attrs)\n\u001b[1;32m    343\u001b[0m \u001b[38;5;28;01melse\u001b[39;00m:\n\u001b[0;32m--> 344\u001b[0m     \u001b[38;5;28;43mself\u001b[39;49m\u001b[38;5;241;43m.\u001b[39;49m\u001b[43mhandle_starttag\u001b[49m\u001b[43m(\u001b[49m\u001b[43mtag\u001b[49m\u001b[43m,\u001b[49m\u001b[43m \u001b[49m\u001b[43mattrs\u001b[49m\u001b[43m)\u001b[49m\n\u001b[1;32m    345\u001b[0m     \u001b[38;5;28;01mif\u001b[39;00m tag \u001b[38;5;129;01min\u001b[39;00m \u001b[38;5;28mself\u001b[39m\u001b[38;5;241m.\u001b[39mCDATA_CONTENT_ELEMENTS:\n\u001b[1;32m    346\u001b[0m         \u001b[38;5;28mself\u001b[39m\u001b[38;5;241m.\u001b[39mset_cdata_mode(tag)\n",
      "File \u001b[0;32m~/Documents/presidential_sentiment/pres_sent/lib/python3.9/site-packages/bs4/builder/_htmlparser.py:141\u001b[0m, in \u001b[0;36mBeautifulSoupHTMLParser.handle_starttag\u001b[0;34m(self, name, attrs, handle_empty_element)\u001b[0m\n\u001b[1;32m    136\u001b[0m sourceline, sourcepos \u001b[38;5;241m=\u001b[39m \u001b[38;5;28mself\u001b[39m\u001b[38;5;241m.\u001b[39mgetpos()\n\u001b[1;32m    137\u001b[0m tag \u001b[38;5;241m=\u001b[39m \u001b[38;5;28mself\u001b[39m\u001b[38;5;241m.\u001b[39msoup\u001b[38;5;241m.\u001b[39mhandle_starttag(\n\u001b[1;32m    138\u001b[0m     name, \u001b[38;5;28;01mNone\u001b[39;00m, \u001b[38;5;28;01mNone\u001b[39;00m, attr_dict, sourceline\u001b[38;5;241m=\u001b[39msourceline,\n\u001b[1;32m    139\u001b[0m     sourcepos\u001b[38;5;241m=\u001b[39msourcepos\n\u001b[1;32m    140\u001b[0m )\n\u001b[0;32m--> 141\u001b[0m \u001b[38;5;28;01mif\u001b[39;00m tag \u001b[38;5;129;01mand\u001b[39;00m tag\u001b[38;5;241m.\u001b[39mis_empty_element \u001b[38;5;129;01mand\u001b[39;00m handle_empty_element:\n\u001b[1;32m    142\u001b[0m     \u001b[38;5;66;03m# Unlike other parsers, html.parser doesn't send separate end tag\u001b[39;00m\n\u001b[1;32m    143\u001b[0m     \u001b[38;5;66;03m# events for empty-element tags. (It's handled in\u001b[39;00m\n\u001b[1;32m    144\u001b[0m     \u001b[38;5;66;03m# handle_startendtag, but only if the original markup looked like\u001b[39;00m\n\u001b[1;32m    145\u001b[0m     \u001b[38;5;66;03m# <tag/>.)\u001b[39;00m\n\u001b[1;32m    146\u001b[0m     \u001b[38;5;66;03m#\u001b[39;00m\n\u001b[1;32m    147\u001b[0m     \u001b[38;5;66;03m# So we need to call handle_endtag() ourselves. Since we\u001b[39;00m\n\u001b[1;32m    148\u001b[0m     \u001b[38;5;66;03m# know the start event is identical to the end event, we\u001b[39;00m\n\u001b[1;32m    149\u001b[0m     \u001b[38;5;66;03m# don't want handle_endtag() to cross off any previous end\u001b[39;00m\n\u001b[1;32m    150\u001b[0m     \u001b[38;5;66;03m# events for tags of this name.\u001b[39;00m\n\u001b[1;32m    151\u001b[0m     \u001b[38;5;28mself\u001b[39m\u001b[38;5;241m.\u001b[39mhandle_endtag(name, check_already_closed\u001b[38;5;241m=\u001b[39m\u001b[38;5;28;01mFalse\u001b[39;00m)\n\u001b[1;32m    153\u001b[0m     \u001b[38;5;66;03m# But we might encounter an explicit closing tag for this tag\u001b[39;00m\n\u001b[1;32m    154\u001b[0m     \u001b[38;5;66;03m# later on. If so, we want to ignore it.\u001b[39;00m\n",
      "File \u001b[0;32m~/Documents/presidential_sentiment/pres_sent/lib/python3.9/site-packages/bs4/element.py:1586\u001b[0m, in \u001b[0;36mTag.__bool__\u001b[0;34m(self)\u001b[0m\n\u001b[1;32m   1583\u001b[0m \u001b[38;5;28;01mdef\u001b[39;00m \u001b[38;5;21m__contains__\u001b[39m(\u001b[38;5;28mself\u001b[39m, x):\n\u001b[1;32m   1584\u001b[0m     \u001b[38;5;28;01mreturn\u001b[39;00m x \u001b[38;5;129;01min\u001b[39;00m \u001b[38;5;28mself\u001b[39m\u001b[38;5;241m.\u001b[39mcontents\n\u001b[0;32m-> 1586\u001b[0m \u001b[38;5;28;01mdef\u001b[39;00m \u001b[38;5;21m__bool__\u001b[39m(\u001b[38;5;28mself\u001b[39m):\n\u001b[1;32m   1587\u001b[0m     \u001b[38;5;124m\"\u001b[39m\u001b[38;5;124mA tag is non-None even if it has no contents.\u001b[39m\u001b[38;5;124m\"\u001b[39m\n\u001b[1;32m   1588\u001b[0m     \u001b[38;5;28;01mreturn\u001b[39;00m \u001b[38;5;28;01mTrue\u001b[39;00m\n",
      "\u001b[0;31mKeyboardInterrupt\u001b[0m: "
     ]
    }
   ],
   "metadata": {}
  },
  {
   "cell_type": "code",
   "execution_count": 251,
   "source": [
    "def assemble_prompt(text, speaker):\n",
    "    prompt = f\"\"\"You are a helpful assistant that helps analyze the sentiment of US presidents. Below is an excerpt from a speech by a US president.\\n\\nSpeaker: {speaker}\\n\\nExcerpt:\\n{text}\\n\\nIf the sentiment of the excerpt is negative, reply with NEG. Otherwise reply with NONE.\"\"\"\n",
    "    return prompt"
   ],
   "outputs": [],
   "metadata": {}
  },
  {
   "cell_type": "code",
   "execution_count": 252,
   "source": [
    "from numpy import random\n",
    "\n",
    "data = []\n",
    "for i in range(2):\n",
    "    text = random.choice(samples)\n",
    "    excerpt = text[\"text\"]\n",
    "    speaker = text[\"speaker\"]\n",
    "    prompt = assemble_prompt(excerpt, speaker)\n",
    "    print(prompt)\n",
    "    response = prompt_llama2(prompt)\n",
    "    data.append({\"text\":excerpt, \"speaker\":speaker,\"sentiment\":response})\n"
   ],
   "outputs": [
    {
     "output_type": "stream",
     "name": "stdout",
     "text": [
      "You are a helpful assistant that helps analyze the sentiment of US presidents. Below is an excerpt from a speech by a US president.\n",
      "\n",
      "Speaker: Donald J. Trump\n",
      "\n",
      "Excerpt:\n",
      "But oil is getting to a point where, I mean, there are some areas—some people would say the water is more valuable than the oil. You never thought you're going to see that. You never thought having covered—I know you cover it—you never thought you'd be seeing oil at $20 a barrel, but how about $10 a barrel? That you never thought you'd see.\n",
      "\n",
      "\n",
      "If the sentiment of the excerpt is negative, reply with NEG. Otherwise reply with NONE.\n",
      "You are a helpful assistant that helps analyze the sentiment of US presidents. Below is an excerpt from a speech by a US president.\n",
      "\n",
      "Speaker: Mike Pence\n",
      "\n",
      "Excerpt:\n",
      "It's amazing.\n",
      "\n",
      "\n",
      "If the sentiment of the excerpt is negative, reply with NEG. Otherwise reply with NONE.\n"
     ]
    }
   ],
   "metadata": {}
  },
  {
   "cell_type": "code",
   "execution_count": 253,
   "source": [
    "data"
   ],
   "outputs": [
    {
     "output_type": "execute_result",
     "data": {
      "text/plain": [
       "[{'text': \"But oil is getting to a point where, I mean, there are some areas—some people would say the water is more valuable than the oil. You never thought you're going to see that. You never thought having covered—I know you cover it—you never thought you'd be seeing oil at $20 a barrel, but how about $10 a barrel? That you never thought you'd see.\\n\",\n",
       "  'speaker': 'Donald J. Trump',\n",
       "  'sentiment': 'The sentiment of the excerpt is NONE because it is neutral. It simply states a fact about the price of oil and does not express any emotion or opinion.'},\n",
       " {'text': \"It's amazing.\\n\", 'speaker': 'Mike Pence', 'sentiment': 'NONE'}]"
      ]
     },
     "metadata": {},
     "execution_count": 253
    }
   ],
   "metadata": {}
  },
  {
   "cell_type": "code",
   "execution_count": 81,
   "source": [
    "prompt_llama2(prompt+\"This country is a mess\")"
   ],
   "outputs": [
    {
     "output_type": "execute_result",
     "data": {
      "text/plain": [
       "'NEG'"
      ]
     },
     "metadata": {},
     "execution_count": 81
    }
   ],
   "metadata": {}
  },
  {
   "cell_type": "code",
   "execution_count": 8,
   "source": [],
   "outputs": [],
   "metadata": {}
  },
  {
   "cell_type": "code",
   "execution_count": 10,
   "source": [
    "df"
   ],
   "outputs": [
    {
     "output_type": "execute_result",
     "data": {
      "text/plain": [
       "        Unnamed: 0  ...                                               text\n",
       "0                0  ...  My name is Joe Biden. I am Jill Biden's husban...\n",
       "1                1  ...  Thanks to the Interior Secretary, Deb Haaland,...\n",
       "2                2  ...  Also thanks to the National Parks Service and ...\n",
       "3                3  ...  But tonight's world-renowned performers were j...\n",
       "4                4  ...  Over the course of the past 99 years, Presiden...\n",
       "...            ...  ...                                                ...\n",
       "222589      222589  ...  Such being the impressions under which I have,...\n",
       "222590      222590  ...  By the article establishing the executive depa...\n",
       "222591      222591  ...  Besides the ordinary objects submitted to your...\n",
       "222592      222592  ...  To the foregoing observations I have one to ad...\n",
       "222593      222593  ...  Having thus imparted to you my sentiments as t...\n",
       "\n",
       "[222594 rows x 3 columns]"
      ],
      "text/html": [
       "<div>\n",
       "<style scoped>\n",
       "    .dataframe tbody tr th:only-of-type {\n",
       "        vertical-align: middle;\n",
       "    }\n",
       "\n",
       "    .dataframe tbody tr th {\n",
       "        vertical-align: top;\n",
       "    }\n",
       "\n",
       "    .dataframe thead th {\n",
       "        text-align: right;\n",
       "    }\n",
       "</style>\n",
       "<table border=\"1\" class=\"dataframe\">\n",
       "  <thead>\n",
       "    <tr style=\"text-align: right;\">\n",
       "      <th></th>\n",
       "      <th>Unnamed: 0</th>\n",
       "      <th>speaker</th>\n",
       "      <th>text</th>\n",
       "    </tr>\n",
       "  </thead>\n",
       "  <tbody>\n",
       "    <tr>\n",
       "      <th>0</th>\n",
       "      <td>0</td>\n",
       "      <td>Joseph R. Biden</td>\n",
       "      <td>My name is Joe Biden. I am Jill Biden's husban...</td>\n",
       "    </tr>\n",
       "    <tr>\n",
       "      <th>1</th>\n",
       "      <td>1</td>\n",
       "      <td>Joseph R. Biden</td>\n",
       "      <td>Thanks to the Interior Secretary, Deb Haaland,...</td>\n",
       "    </tr>\n",
       "    <tr>\n",
       "      <th>2</th>\n",
       "      <td>2</td>\n",
       "      <td>Joseph R. Biden</td>\n",
       "      <td>Also thanks to the National Parks Service and ...</td>\n",
       "    </tr>\n",
       "    <tr>\n",
       "      <th>3</th>\n",
       "      <td>3</td>\n",
       "      <td>Joseph R. Biden</td>\n",
       "      <td>But tonight's world-renowned performers were j...</td>\n",
       "    </tr>\n",
       "    <tr>\n",
       "      <th>4</th>\n",
       "      <td>4</td>\n",
       "      <td>Joseph R. Biden</td>\n",
       "      <td>Over the course of the past 99 years, Presiden...</td>\n",
       "    </tr>\n",
       "    <tr>\n",
       "      <th>...</th>\n",
       "      <td>...</td>\n",
       "      <td>...</td>\n",
       "      <td>...</td>\n",
       "    </tr>\n",
       "    <tr>\n",
       "      <th>222589</th>\n",
       "      <td>222589</td>\n",
       "      <td>George Washington</td>\n",
       "      <td>Such being the impressions under which I have,...</td>\n",
       "    </tr>\n",
       "    <tr>\n",
       "      <th>222590</th>\n",
       "      <td>222590</td>\n",
       "      <td>George Washington</td>\n",
       "      <td>By the article establishing the executive depa...</td>\n",
       "    </tr>\n",
       "    <tr>\n",
       "      <th>222591</th>\n",
       "      <td>222591</td>\n",
       "      <td>George Washington</td>\n",
       "      <td>Besides the ordinary objects submitted to your...</td>\n",
       "    </tr>\n",
       "    <tr>\n",
       "      <th>222592</th>\n",
       "      <td>222592</td>\n",
       "      <td>George Washington</td>\n",
       "      <td>To the foregoing observations I have one to ad...</td>\n",
       "    </tr>\n",
       "    <tr>\n",
       "      <th>222593</th>\n",
       "      <td>222593</td>\n",
       "      <td>George Washington</td>\n",
       "      <td>Having thus imparted to you my sentiments as t...</td>\n",
       "    </tr>\n",
       "  </tbody>\n",
       "</table>\n",
       "<p>222594 rows × 3 columns</p>\n",
       "</div>"
      ]
     },
     "metadata": {},
     "execution_count": 10
    }
   ],
   "metadata": {}
  },
  {
   "cell_type": "code",
   "execution_count": 11,
   "source": [
    "from transformers import pipeline\n",
    "\n",
    "model_path = \"cardiffnlp/twitter-roberta-base-sentiment-latest\"\n",
    "sentiment_task = pipeline(\"sentiment-analysis\", model=model_path, tokenizer=model_path)\n",
    "\n",
    "\n"
   ],
   "outputs": [
    {
     "output_type": "stream",
     "name": "stderr",
     "text": [
      "Some weights of the model checkpoint at cardiffnlp/twitter-roberta-base-sentiment-latest were not used when initializing RobertaForSequenceClassification: ['roberta.pooler.dense.bias', 'roberta.pooler.dense.weight']\n",
      "- This IS expected if you are initializing RobertaForSequenceClassification from the checkpoint of a model trained on another task or with another architecture (e.g. initializing a BertForSequenceClassification model from a BertForPreTraining model).\n",
      "- This IS NOT expected if you are initializing RobertaForSequenceClassification from the checkpoint of a model that you expect to be exactly identical (initializing a BertForSequenceClassification model from a BertForSequenceClassification model).\n"
     ]
    }
   ],
   "metadata": {}
  },
  {
   "cell_type": "code",
   "execution_count": 50,
   "source": [
    "test = pd.read_csv('data/labeled.csv')"
   ],
   "outputs": [],
   "metadata": {}
  },
  {
   "cell_type": "code",
   "execution_count": 60,
   "source": [
    "df.head(730)['text']"
   ],
   "outputs": [
    {
     "output_type": "execute_result",
     "data": {
      "text/plain": [
       "0      My name is Joe Biden. I am Jill Biden's husban...\n",
       "1      Thanks to the Interior Secretary, Deb Haaland,...\n",
       "2      Also thanks to the National Parks Service and ...\n",
       "3      But tonight's world-renowned performers were j...\n",
       "4      Over the course of the past 99 years, Presiden...\n",
       "                             ...                        \n",
       "725    So, you know, they also serve who only \"stand ...\n",
       "726    And you do so much, and your families give so ...\n",
       "727    And you're the finest -- you're the finest mil...\n",
       "728    And it's hard for me to even say it, but I'm -...\n",
       "729    And so, I just -- we came because we wanted to...\n",
       "Name: text, Length: 730, dtype: object"
      ]
     },
     "metadata": {},
     "execution_count": 60
    }
   ],
   "metadata": {}
  },
  {
   "cell_type": "code",
   "execution_count": 83,
   "source": [
    "set(df.head(730)['text']).difference(set(test['excerpt']))"
   ],
   "outputs": [
    {
     "output_type": "execute_result",
     "data": {
      "text/plain": [
       "{\"And so, I just -- we came because we wanted to thank you and tell you how much we care. And we wanted you to hear the engine of Air Force One, so you couldn't hear anything. But -- (laughter) -- that was the main reason we did that.\"}"
      ]
     },
     "metadata": {},
     "execution_count": 83
    }
   ],
   "metadata": {}
  },
  {
   "cell_type": "code",
   "execution_count": 77,
   "source": [],
   "outputs": [
    {
     "output_type": "execute_result",
     "data": {
      "text/plain": [
       "(array([   729,    730,    731, ..., 222591, 222592, 222593]),)"
      ]
     },
     "metadata": {},
     "execution_count": 77
    }
   ],
   "metadata": {}
  },
  {
   "cell_type": "code",
   "execution_count": 115,
   "source": [
    "current\n"
   ],
   "outputs": [
    {
     "output_type": "execute_result",
     "data": {
      "text/plain": [
       "               speaker  ...               score\n",
       "0      Joseph R. Biden  ...  0.7807849049568176\n",
       "1      Joseph R. Biden  ...  0.9607234001159668\n",
       "2      Joseph R. Biden  ...  0.9605549573898315\n",
       "3      Joseph R. Biden  ...  0.9793055653572083\n",
       "4      Joseph R. Biden  ...  0.8555593490600586\n",
       "...                ...  ...                 ...\n",
       "28781  Donald J. Trump  ...  0.8917644619941711\n",
       "28782  Donald J. Trump  ...  0.9758639931678772\n",
       "28783  Donald J. Trump  ...  0.4009448289871216\n",
       "28784  Donald J. Trump  ...   0.536845326423645\n",
       "28785  Donald J. Trump  ...  0.7122998833656311\n",
       "\n",
       "[28786 rows x 4 columns]"
      ],
      "text/html": [
       "<div>\n",
       "<style scoped>\n",
       "    .dataframe tbody tr th:only-of-type {\n",
       "        vertical-align: middle;\n",
       "    }\n",
       "\n",
       "    .dataframe tbody tr th {\n",
       "        vertical-align: top;\n",
       "    }\n",
       "\n",
       "    .dataframe thead th {\n",
       "        text-align: right;\n",
       "    }\n",
       "</style>\n",
       "<table border=\"1\" class=\"dataframe\">\n",
       "  <thead>\n",
       "    <tr style=\"text-align: right;\">\n",
       "      <th></th>\n",
       "      <th>speaker</th>\n",
       "      <th>excerpt</th>\n",
       "      <th>label</th>\n",
       "      <th>score</th>\n",
       "    </tr>\n",
       "  </thead>\n",
       "  <tbody>\n",
       "    <tr>\n",
       "      <th>0</th>\n",
       "      <td>Joseph R. Biden</td>\n",
       "      <td>My name is Joe Biden. I am Jill Biden's husban...</td>\n",
       "      <td>positive</td>\n",
       "      <td>0.7807849049568176</td>\n",
       "    </tr>\n",
       "    <tr>\n",
       "      <th>1</th>\n",
       "      <td>Joseph R. Biden</td>\n",
       "      <td>Thanks to the Interior Secretary, Deb Haaland,...</td>\n",
       "      <td>positive</td>\n",
       "      <td>0.9607234001159668</td>\n",
       "    </tr>\n",
       "    <tr>\n",
       "      <th>2</th>\n",
       "      <td>Joseph R. Biden</td>\n",
       "      <td>Also thanks to the National Parks Service and ...</td>\n",
       "      <td>positive</td>\n",
       "      <td>0.9605549573898315</td>\n",
       "    </tr>\n",
       "    <tr>\n",
       "      <th>3</th>\n",
       "      <td>Joseph R. Biden</td>\n",
       "      <td>But tonight's world-renowned performers were j...</td>\n",
       "      <td>positive</td>\n",
       "      <td>0.9793055653572083</td>\n",
       "    </tr>\n",
       "    <tr>\n",
       "      <th>4</th>\n",
       "      <td>Joseph R. Biden</td>\n",
       "      <td>Over the course of the past 99 years, Presiden...</td>\n",
       "      <td>positive</td>\n",
       "      <td>0.8555593490600586</td>\n",
       "    </tr>\n",
       "    <tr>\n",
       "      <th>...</th>\n",
       "      <td>...</td>\n",
       "      <td>...</td>\n",
       "      <td>...</td>\n",
       "      <td>...</td>\n",
       "    </tr>\n",
       "    <tr>\n",
       "      <th>28781</th>\n",
       "      <td>Donald J. Trump</td>\n",
       "      <td>So they don't want anything. Now, they're gett...</td>\n",
       "      <td>negative</td>\n",
       "      <td>0.8917644619941711</td>\n",
       "    </tr>\n",
       "    <tr>\n",
       "      <th>28782</th>\n",
       "      <td>Donald J. Trump</td>\n",
       "      <td>Crowd Member. Nice work!</td>\n",
       "      <td>positive</td>\n",
       "      <td>0.9758639931678772</td>\n",
       "    </tr>\n",
       "    <tr>\n",
       "      <th>28783</th>\n",
       "      <td>Donald J. Trump</td>\n",
       "      <td>The President. You're not gonna win too many p...</td>\n",
       "      <td>positive</td>\n",
       "      <td>0.4009448289871216</td>\n",
       "    </tr>\n",
       "    <tr>\n",
       "      <th>28784</th>\n",
       "      <td>Donald J. Trump</td>\n",
       "      <td>They said, \"No, don't do that, favored nations...</td>\n",
       "      <td>neutral</td>\n",
       "      <td>0.536845326423645</td>\n",
       "    </tr>\n",
       "    <tr>\n",
       "      <th>28785</th>\n",
       "      <td>Donald J. Trump</td>\n",
       "      <td>And it's very simple. You have that in deals. ...</td>\n",
       "      <td>neutral</td>\n",
       "      <td>0.7122998833656311</td>\n",
       "    </tr>\n",
       "  </tbody>\n",
       "</table>\n",
       "<p>28786 rows × 4 columns</p>\n",
       "</div>"
      ]
     },
     "metadata": {},
     "execution_count": 115
    }
   ],
   "metadata": {}
  },
  {
   "cell_type": "code",
   "execution_count": 120,
   "source": [
    "def get_remaining(labeled, cleaned):\n",
    "    # Convert the 'excerpt' column of the labeled DataFrame to a set for faster lookup\n",
    "    labeled_set = set(labeled['excerpt'])\n",
    "    \n",
    "    # Use the 'isin' method to check if each element in 'text' column is in the 'labeled_set'\n",
    "    missing_mask = ~cleaned['text'].isin(labeled_set)\n",
    "    \n",
    "    # Use the boolean mask to filter out the missing rows\n",
    "    remaining_rows = cleaned[missing_mask]\n",
    "    \n",
    "    return remaining_rows"
   ],
   "outputs": [],
   "metadata": {}
  },
  {
   "cell_type": "code",
   "execution_count": 131,
   "source": [
    "import os\n",
    "import sys\n",
    "\n",
    "\n",
    "import pandas as pd\n",
    "df = pd.read_csv(\"data/cleaned.csv\")\n",
    "\n",
    "if 'labeled.csv' in os.listdir('data'):\n",
    "    current = pd.read_csv('data/labeled.csv')\n",
    "\n",
    "\n",
    "import pandas as pd\n",
    "\n",
    "\n",
    "\n",
    "df = get_remaining(current, df)\n",
    "\n",
    "print(f'{len(df)} entries remaining')\n",
    "\n",
    "\n",
    "results = []\n",
    "\n",
    "for index, row in df.iterrows():\n",
    "    try:\n",
    "        speaker = row['speaker']\n",
    "        excerpt = row['text']\n",
    "        out = sentiment_task(excerpt)[0]\n",
    "        label = out['label']\n",
    "        score = out['score']\n",
    "        results.append({\"speaker\":speaker, \"excerpt\":excerpt, \"label\":label, \"score\":score})\n",
    "    except KeyboardInterrupt as e:\n",
    "        constructed = pd.DataFrame(results)\n",
    "        if 'labeled.csv' in os.listdir('data'):\n",
    "            to_save = pd.concat([current, constructed])\n",
    "            to_save.to_csv('data/labeled.csv', index = False)\n",
    "        else:\n",
    "            constructed.to_csv('data/labeled.csv', index = False)\n",
    "        sys.exit()\n",
    "    except Exception as ex:\n",
    "        print(ex)\n",
    "        results.append({\"speaker\":speaker, \"excerpt\":excerpt, \"label\":ex, \"score\":ex})"
   ],
   "outputs": [
    {
     "output_type": "stream",
     "name": "stdout",
     "text": [
      "51155 entries remaining\n",
      "The expanded size of the tensor (549) must match the existing size (514) at non-singleton dimension 1.  Target sizes: [1, 549].  Tensor sizes: [1, 514]\n",
      "The expanded size of the tensor (680) must match the existing size (514) at non-singleton dimension 1.  Target sizes: [1, 680].  Tensor sizes: [1, 514]\n",
      "The expanded size of the tensor (687) must match the existing size (514) at non-singleton dimension 1.  Target sizes: [1, 687].  Tensor sizes: [1, 514]\n",
      "The expanded size of the tensor (648) must match the existing size (514) at non-singleton dimension 1.  Target sizes: [1, 648].  Tensor sizes: [1, 514]\n",
      "The expanded size of the tensor (691) must match the existing size (514) at non-singleton dimension 1.  Target sizes: [1, 691].  Tensor sizes: [1, 514]\n",
      "The expanded size of the tensor (541) must match the existing size (514) at non-singleton dimension 1.  Target sizes: [1, 541].  Tensor sizes: [1, 514]\n",
      "The expanded size of the tensor (566) must match the existing size (514) at non-singleton dimension 1.  Target sizes: [1, 566].  Tensor sizes: [1, 514]\n",
      "The expanded size of the tensor (630) must match the existing size (514) at non-singleton dimension 1.  Target sizes: [1, 630].  Tensor sizes: [1, 514]\n",
      "The expanded size of the tensor (533) must match the existing size (514) at non-singleton dimension 1.  Target sizes: [1, 533].  Tensor sizes: [1, 514]\n",
      "The expanded size of the tensor (1130) must match the existing size (514) at non-singleton dimension 1.  Target sizes: [1, 1130].  Tensor sizes: [1, 514]\n",
      "The expanded size of the tensor (566) must match the existing size (514) at non-singleton dimension 1.  Target sizes: [1, 566].  Tensor sizes: [1, 514]\n",
      "The expanded size of the tensor (593) must match the existing size (514) at non-singleton dimension 1.  Target sizes: [1, 593].  Tensor sizes: [1, 514]\n",
      "The expanded size of the tensor (561) must match the existing size (514) at non-singleton dimension 1.  Target sizes: [1, 561].  Tensor sizes: [1, 514]\n",
      "The expanded size of the tensor (539) must match the existing size (514) at non-singleton dimension 1.  Target sizes: [1, 539].  Tensor sizes: [1, 514]\n",
      "The expanded size of the tensor (552) must match the existing size (514) at non-singleton dimension 1.  Target sizes: [1, 552].  Tensor sizes: [1, 514]\n",
      "The expanded size of the tensor (825) must match the existing size (514) at non-singleton dimension 1.  Target sizes: [1, 825].  Tensor sizes: [1, 514]\n",
      "The expanded size of the tensor (721) must match the existing size (514) at non-singleton dimension 1.  Target sizes: [1, 721].  Tensor sizes: [1, 514]\n",
      "The expanded size of the tensor (515) must match the existing size (514) at non-singleton dimension 1.  Target sizes: [1, 515].  Tensor sizes: [1, 514]\n",
      "The expanded size of the tensor (518) must match the existing size (514) at non-singleton dimension 1.  Target sizes: [1, 518].  Tensor sizes: [1, 514]\n",
      "The expanded size of the tensor (756) must match the existing size (514) at non-singleton dimension 1.  Target sizes: [1, 756].  Tensor sizes: [1, 514]\n",
      "The expanded size of the tensor (767) must match the existing size (514) at non-singleton dimension 1.  Target sizes: [1, 767].  Tensor sizes: [1, 514]\n",
      "The expanded size of the tensor (541) must match the existing size (514) at non-singleton dimension 1.  Target sizes: [1, 541].  Tensor sizes: [1, 514]\n",
      "The expanded size of the tensor (543) must match the existing size (514) at non-singleton dimension 1.  Target sizes: [1, 543].  Tensor sizes: [1, 514]\n",
      "The expanded size of the tensor (937) must match the existing size (514) at non-singleton dimension 1.  Target sizes: [1, 937].  Tensor sizes: [1, 514]\n",
      "The expanded size of the tensor (640) must match the existing size (514) at non-singleton dimension 1.  Target sizes: [1, 640].  Tensor sizes: [1, 514]\n",
      "The expanded size of the tensor (525) must match the existing size (514) at non-singleton dimension 1.  Target sizes: [1, 525].  Tensor sizes: [1, 514]\n",
      "The expanded size of the tensor (656) must match the existing size (514) at non-singleton dimension 1.  Target sizes: [1, 656].  Tensor sizes: [1, 514]\n",
      "The expanded size of the tensor (583) must match the existing size (514) at non-singleton dimension 1.  Target sizes: [1, 583].  Tensor sizes: [1, 514]\n",
      "The expanded size of the tensor (614) must match the existing size (514) at non-singleton dimension 1.  Target sizes: [1, 614].  Tensor sizes: [1, 514]\n",
      "The expanded size of the tensor (734) must match the existing size (514) at non-singleton dimension 1.  Target sizes: [1, 734].  Tensor sizes: [1, 514]\n",
      "The expanded size of the tensor (545) must match the existing size (514) at non-singleton dimension 1.  Target sizes: [1, 545].  Tensor sizes: [1, 514]\n",
      "The expanded size of the tensor (639) must match the existing size (514) at non-singleton dimension 1.  Target sizes: [1, 639].  Tensor sizes: [1, 514]\n",
      "The expanded size of the tensor (592) must match the existing size (514) at non-singleton dimension 1.  Target sizes: [1, 592].  Tensor sizes: [1, 514]\n",
      "The expanded size of the tensor (545) must match the existing size (514) at non-singleton dimension 1.  Target sizes: [1, 545].  Tensor sizes: [1, 514]\n",
      "The expanded size of the tensor (805) must match the existing size (514) at non-singleton dimension 1.  Target sizes: [1, 805].  Tensor sizes: [1, 514]\n",
      "The expanded size of the tensor (516) must match the existing size (514) at non-singleton dimension 1.  Target sizes: [1, 516].  Tensor sizes: [1, 514]\n",
      "The expanded size of the tensor (810) must match the existing size (514) at non-singleton dimension 1.  Target sizes: [1, 810].  Tensor sizes: [1, 514]\n",
      "The expanded size of the tensor (663) must match the existing size (514) at non-singleton dimension 1.  Target sizes: [1, 663].  Tensor sizes: [1, 514]\n",
      "The expanded size of the tensor (562) must match the existing size (514) at non-singleton dimension 1.  Target sizes: [1, 562].  Tensor sizes: [1, 514]\n",
      "The expanded size of the tensor (688) must match the existing size (514) at non-singleton dimension 1.  Target sizes: [1, 688].  Tensor sizes: [1, 514]\n",
      "The expanded size of the tensor (741) must match the existing size (514) at non-singleton dimension 1.  Target sizes: [1, 741].  Tensor sizes: [1, 514]\n",
      "The expanded size of the tensor (575) must match the existing size (514) at non-singleton dimension 1.  Target sizes: [1, 575].  Tensor sizes: [1, 514]\n",
      "The expanded size of the tensor (659) must match the existing size (514) at non-singleton dimension 1.  Target sizes: [1, 659].  Tensor sizes: [1, 514]\n",
      "The expanded size of the tensor (638) must match the existing size (514) at non-singleton dimension 1.  Target sizes: [1, 638].  Tensor sizes: [1, 514]\n",
      "The expanded size of the tensor (596) must match the existing size (514) at non-singleton dimension 1.  Target sizes: [1, 596].  Tensor sizes: [1, 514]\n",
      "The expanded size of the tensor (529) must match the existing size (514) at non-singleton dimension 1.  Target sizes: [1, 529].  Tensor sizes: [1, 514]\n",
      "The expanded size of the tensor (652) must match the existing size (514) at non-singleton dimension 1.  Target sizes: [1, 652].  Tensor sizes: [1, 514]\n",
      "The expanded size of the tensor (648) must match the existing size (514) at non-singleton dimension 1.  Target sizes: [1, 648].  Tensor sizes: [1, 514]\n",
      "The expanded size of the tensor (718) must match the existing size (514) at non-singleton dimension 1.  Target sizes: [1, 718].  Tensor sizes: [1, 514]\n",
      "The expanded size of the tensor (540) must match the existing size (514) at non-singleton dimension 1.  Target sizes: [1, 540].  Tensor sizes: [1, 514]\n",
      "The expanded size of the tensor (652) must match the existing size (514) at non-singleton dimension 1.  Target sizes: [1, 652].  Tensor sizes: [1, 514]\n",
      "The expanded size of the tensor (590) must match the existing size (514) at non-singleton dimension 1.  Target sizes: [1, 590].  Tensor sizes: [1, 514]\n",
      "The expanded size of the tensor (676) must match the existing size (514) at non-singleton dimension 1.  Target sizes: [1, 676].  Tensor sizes: [1, 514]\n",
      "The expanded size of the tensor (678) must match the existing size (514) at non-singleton dimension 1.  Target sizes: [1, 678].  Tensor sizes: [1, 514]\n",
      "The expanded size of the tensor (533) must match the existing size (514) at non-singleton dimension 1.  Target sizes: [1, 533].  Tensor sizes: [1, 514]\n",
      "The expanded size of the tensor (618) must match the existing size (514) at non-singleton dimension 1.  Target sizes: [1, 618].  Tensor sizes: [1, 514]\n",
      "The expanded size of the tensor (592) must match the existing size (514) at non-singleton dimension 1.  Target sizes: [1, 592].  Tensor sizes: [1, 514]\n",
      "The expanded size of the tensor (829) must match the existing size (514) at non-singleton dimension 1.  Target sizes: [1, 829].  Tensor sizes: [1, 514]\n",
      "The expanded size of the tensor (691) must match the existing size (514) at non-singleton dimension 1.  Target sizes: [1, 691].  Tensor sizes: [1, 514]\n",
      "The expanded size of the tensor (516) must match the existing size (514) at non-singleton dimension 1.  Target sizes: [1, 516].  Tensor sizes: [1, 514]\n",
      "The expanded size of the tensor (765) must match the existing size (514) at non-singleton dimension 1.  Target sizes: [1, 765].  Tensor sizes: [1, 514]\n",
      "The expanded size of the tensor (1016) must match the existing size (514) at non-singleton dimension 1.  Target sizes: [1, 1016].  Tensor sizes: [1, 514]\n",
      "The expanded size of the tensor (630) must match the existing size (514) at non-singleton dimension 1.  Target sizes: [1, 630].  Tensor sizes: [1, 514]\n",
      "The expanded size of the tensor (606) must match the existing size (514) at non-singleton dimension 1.  Target sizes: [1, 606].  Tensor sizes: [1, 514]\n",
      "The expanded size of the tensor (723) must match the existing size (514) at non-singleton dimension 1.  Target sizes: [1, 723].  Tensor sizes: [1, 514]\n",
      "The expanded size of the tensor (575) must match the existing size (514) at non-singleton dimension 1.  Target sizes: [1, 575].  Tensor sizes: [1, 514]\n",
      "The expanded size of the tensor (590) must match the existing size (514) at non-singleton dimension 1.  Target sizes: [1, 590].  Tensor sizes: [1, 514]\n",
      "The expanded size of the tensor (771) must match the existing size (514) at non-singleton dimension 1.  Target sizes: [1, 771].  Tensor sizes: [1, 514]\n",
      "The expanded size of the tensor (531) must match the existing size (514) at non-singleton dimension 1.  Target sizes: [1, 531].  Tensor sizes: [1, 514]\n",
      "The expanded size of the tensor (665) must match the existing size (514) at non-singleton dimension 1.  Target sizes: [1, 665].  Tensor sizes: [1, 514]\n",
      "The expanded size of the tensor (530) must match the existing size (514) at non-singleton dimension 1.  Target sizes: [1, 530].  Tensor sizes: [1, 514]\n",
      "The expanded size of the tensor (1089) must match the existing size (514) at non-singleton dimension 1.  Target sizes: [1, 1089].  Tensor sizes: [1, 514]\n",
      "The expanded size of the tensor (719) must match the existing size (514) at non-singleton dimension 1.  Target sizes: [1, 719].  Tensor sizes: [1, 514]\n",
      "The expanded size of the tensor (829) must match the existing size (514) at non-singleton dimension 1.  Target sizes: [1, 829].  Tensor sizes: [1, 514]\n",
      "The expanded size of the tensor (669) must match the existing size (514) at non-singleton dimension 1.  Target sizes: [1, 669].  Tensor sizes: [1, 514]\n",
      "The expanded size of the tensor (726) must match the existing size (514) at non-singleton dimension 1.  Target sizes: [1, 726].  Tensor sizes: [1, 514]\n",
      "The expanded size of the tensor (852) must match the existing size (514) at non-singleton dimension 1.  Target sizes: [1, 852].  Tensor sizes: [1, 514]\n",
      "The expanded size of the tensor (591) must match the existing size (514) at non-singleton dimension 1.  Target sizes: [1, 591].  Tensor sizes: [1, 514]\n",
      "The expanded size of the tensor (851) must match the existing size (514) at non-singleton dimension 1.  Target sizes: [1, 851].  Tensor sizes: [1, 514]\n"
     ]
    }
   ],
   "metadata": {}
  },
  {
   "cell_type": "code",
   "execution_count": 132,
   "source": [
    "constructed = pd.DataFrame(results)\n",
    "if 'labeled.csv' in os.listdir('data'):\n",
    "    to_save = pd.concat([current, constructed])\n",
    "    to_save.to_csv('data/labeled.csv', index = False)"
   ],
   "outputs": [],
   "metadata": {}
  }
 ],
 "metadata": {
  "orig_nbformat": 4,
  "language_info": {
   "name": "python",
   "version": "3.9.5",
   "mimetype": "text/x-python",
   "codemirror_mode": {
    "name": "ipython",
    "version": 3
   },
   "pygments_lexer": "ipython3",
   "nbconvert_exporter": "python",
   "file_extension": ".py"
  },
  "kernelspec": {
   "name": "python3",
   "display_name": "Python 3.9.5 64-bit ('pres_sent')"
  },
  "interpreter": {
   "hash": "7ac63b7a5060d285166f4b4b5c6c4135ee730b8356e68f8fb2e28b68c45f311c"
  }
 },
 "nbformat": 4,
 "nbformat_minor": 2
}