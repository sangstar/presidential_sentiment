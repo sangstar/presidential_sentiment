{
 "cells": [
  {
   "cell_type": "code",
   "execution_count": 226,
   "source": [
    "from llama2_assets import prompt_llama2\n",
    "import transformers\n",
    "import pandas as pd"
   ],
   "outputs": [],
   "metadata": {}
  },
  {
   "cell_type": "code",
   "execution_count": 44,
   "source": [
    "df = pd.read_csv(\"data/results.csv\", names = ['index','number','president','speech_title','website','speech'])"
   ],
   "outputs": [],
   "metadata": {}
  },
  {
   "cell_type": "code",
   "execution_count": 45,
   "source": [
    "from bs4 import BeautifulSoup\n",
    "\n",
    "def remove_html_tags(input_string):\n",
    "    soup = BeautifulSoup(input_string, \"html.parser\")\n",
    "    cleaned_string = soup.get_text()\n",
    "    if cleaned_string[-2:] == \", \":\n",
    "        return cleaned_string[:-2]\n",
    "    else:\n",
    "        return cleaned_string\n"
   ],
   "outputs": [],
   "metadata": {}
  },
  {
   "cell_type": "code",
   "execution_count": 89,
   "source": [
    "df['speech'][5500]"
   ],
   "outputs": [
    {
     "output_type": "execute_result",
     "data": {
      "text/plain": [
       "'[<p>PRESIDENT LOPEZ PORTILLO. Mr. President of the United States of America, James Carter, Mrs. Carter, ladies and gentlemen:</p>, <p>It has been 2 years now since we met for the first time. Since then, a great deal of water has flowed under the bridges of the Rio Grande. A great deal has also happened within our countries and between our countries, as it has in the world and to the world.</p>, <p>United by geography and the borders that scar it, and immersed in the conflicts of a sometimes bitter and invariably complex history, we have set out to order our conduct as neighbors according to the precepts of law and, even more important, on the favorable basis of mutual friendship. This implies good will, expressed in terms of respectful, fair, and worthy treatment.</p>, <p>Today, 2 years later, it is only fitting that we evaluate our objectives and face the facts that confront us. We know better now what each expects of the other, but I believe we also know that we have not yet put our friendship to the test, since we have not yet decided what we are willing to make of our relationship. We can view it as a problem, or we can think of it as a conflict. In the first case, there are solutions, which would be welcomed by our friends; in the second, confrontation, which would give joy to our enemies.</p>, <p>We know that in a world characterized by extraordinary and difficult changes and by the readjustment of forces, interests, resources, and positions, your great country is still in the process of redefining its policies and that this makes your decisions all the more difficult.</p>, <p>Nevertheless, we see in you a leader who has sought to revive the moral foundations of the political institutions of the United States. With great personal integrity, you have sought to replace provisional arrangements with lasting agreements.</p>, <p>That is what we are hoping for. That is what we are determined to do. Our peoples want definitive agreements, not circumstantial concessions.</p>, <p>Among permanent, not casual, neighbors, surprise moves and sudden deceit or abuse are poisonous fruits that sooner or later have a reverse effect.</p>, <p>Consequently, we must take a longrange view of ourselves. No injustice can prevail without affronting decency and dignity.</p>, <p>It is difficult, particularly among neighbors, to maintain cordial and mutually advantageous relations in an atmosphere of mistrust or open hostility.</p>, <p>We do not wish to view our history as one that uselessly anchors us, like so many pillars of salt, to a burden of resentment, just as we would not like you to contemplate your future in terms of the risks of silent migration. Neither anchors nor silence must impede our dealings with one another.</p>, <p>A good-neighbor policy presupposes a general climate of opinion in which respect prevails over prejudice and intelligence over sectarianism.</p>, <p>Over our 3,000 kilometers of common border, we are the most representative example of North-South relations—the confluence of two expanding civilizations, formerly separated by the desert, but now closely linked by a complex series of conurbations and exchanges.</p>, <p>But no matter how greatly our relations may have been intensified, they are neither exclusive nor excluding. As a world power, the United States is increasing its presence and its commitments on all continents. Mexico, as an independent country, recognizes no limitations on the diversification of its exchanges, other than its principles and its development requirements.</p>, <p>It is in that light that we must view the complex phenomenon of our interrelationship, which should never be confused with dependence, integration, or the blurring of borders. The two countries complement and need each other, but neither would want to depend on the other to the point of nullifying its own sovereign will, reducing the scope of its international activities, or losing its self-respect.</p>, <p>All this requires thoroughgoing analysis; we must not sacrifice what is important for the sake of what is urgent nor neglect international and continuing needs in favor of local and transitory interests. Thus, we must keep a firm grasp on matters of basic importance in devising solutions to our immediate problems.</p>, <p>Today, the United States is readjusting its power and influence in an irrational world that refuses to take rights and obligations into account in its pursual of its interests and outbreaks of violence, a world in which Manichaean political structures impede development and make underdevelopment even more distressing. Meanwhile, supranational economic hegemonies—devoid of any sense of social responsibility and recognizing no country as their own—are dividing up the world among themselves and winning out over sovereign nations.</p>, <p>And today, in this same world and for the first time in its history, Mexico, because of a nonrenewable resource and the financial self-determination it provides, has been given the opportunity of becoming the free, secure, and just nation envisaged by its great leaders of the past, a nation ruled by the principles of a revolution that has evolved into a government and determined to live in peace nurtured by respect for the rights of others—a simple maxim, perhaps, but a valid one.</p>, <p>Mexico has thus suddenly found itself the center of American attention—attention that is a surprising mixture of interest, disdain, and fear, much like the recurring vague fears you yourselves inspire in certain areas of our national subconscious.</p>, <p>You and I, Mr. President, have the task of dealing with the problem, of rationalizing realities and prejudices, and fulfilling our responsibility to our nations by keeping insensitivity, ambition, fear, or self-seeking manipulation of illusions from casting a shadow on a relationship founded on friendship or eliminating any possibility of understanding.</p>, <p>Let us seek only lasting solutions—good faith and fair play—nothing that would make us lose the respect of our children.</p>, <p>Multilateral relations, economic order, trade and prices, demography, finance, currency, drugs, energy sources—land, sea, air, or gas—migratory labor, or human rights and all their associated questions constitute agendas that call for varying degrees of attention. What must not vary are the principles on which our relations are based, and the most fundamental of these is treating others as we ourselves would like to be treated. That is a canon that holds true for both men and nations, the test of our good will and the measure of our deeds.</p>, <p>It is with such good will that, within the context of that relationship, I want to assume my temporary responsibility for the permanent destiny of my people, which, like you, I have sworn to serve and have no right to endanger. I am certain that you feel the same way, and in token of this, let us join in a toast as we hope to join our wills.<br/><br/>\\nI thank you.</p>, <p>PRESIDENT CARTER. Mr. President, Mrs. Lopez Portillo, distinguished guests who\\'ve come here both from the great nation of Mexico and from the United States:</p>, <p>President Lopez Portillo and I have, in the short time together on this visit, found that we have many things in common. We both represent great nations; we both have found an interest in archeology; we both must deal with difficult questions like energy and the control of inflation. We both look across the flowing waters of the Rio Grande with interest, expressions of friendship, concern, sometimes a lack of understanding, but a determination to make the future brighter.</p>, <p>We both have beautiful and interesting wives, and we both run several kilometers every day. [Laughter] As a matter of fact, I told President Lopez Portillo that I first acquired my habit of running here in Mexico City. My first running course was from the Palace of Fine Arts to the Majestic Hotel, where me and my family were staying. In the midst of the Folklorico performance, I discovered that I was afflicted with Montezuma\\'s revenge. [Laughter]</p>, <p>We have also noticed some remarkable changes at that time. My wife and I and my three sons stayed at the Majestic Hotel on the Zocalo for about a week, and we paid each day, $5.50. The view itself was worth that price.</p>, <p>At the end of my visit, I will have the honor of speaking to the Congress of Mexico. In your address to the United States Congress 2 years ago, Mr. President, you said, and I quote, \"Mexico bas never been, nor is it now, the leader of any continent or group of countries.\" I respect this modest view of your nation\\'s role. Yet our world is changing very rapidly. It is no longer divided into monolithic ideological nor military blocs. The southern tier of our planet, the so-called developing world, is asserting its rights and the responsibilities that go with those rights. And no one can deny that Mexico\\'s new strength, Mexico\\'s new confidence, and Mexico\\'s new importance in the world economy are casting your country in a new world role.</p>, <p>We seek to appreciate the individuality of each independent nation and to guide our own policies accordingly. My administration and the people of our country recognize the uniqueness of Mexico. By your own choice, as you have said, Mr. President, Mexico is not the leader of any bloc, but on many global issues the independent voice of Mexico is heard with increasing strength and persuasiveness.</p>, <p>Mexico\\'s voice is heard, for example, on the crucial issue of the world\\'s economic system—to make it more just, more equitable, and how to increase the participation of the people of the developing world. Because of the different levels of development, economically speaking, of our two countries, our respective visions of the pace and the kind of change are somewhat different. But our dialog is a creative one, beneficial to all countries of the world, regardless of the degree of their industrialization.</p>, <p>Mexico\\'s voice is heard as an advocate of a truly international approach to human rights. The Mexican people have a history of long and successful struggle, not only for national independence but for social justice and the dignity of the individual.</p>, <p>Mexico has used its influence on behalf of internationally recognized standards of human rights, both political and economic. This has been one of my own most deeply felt concerns.</p>, <p>Our policies, both foreign and domestic, must reflect our values as a people. Those of us who are national leaders have a responsibility to speak out when human rights are violated abroad, and we also have a responsibility to protect human rights at home. That extends to the basic human rights of all those who, for whatever reason, are within the borders of our countries.</p>, <p>The struggle for human rights is not a static thing. It offers new challenges to every generation. During the 1960\\'s in the United States, we enacted new laws to protect the civil and voting rights of all citizens regardless of language, race, or color. Here in Mexico, Mr. President, you\\'ve initiated an important political reform and an amnesty law, evidence of your belief in open debate and in the accommodation of opposing views.</p>, <p>Finally, and most important, the voice of Mexico is heard in the service of world peace. Your government has worked long and hard to control weapons and armaments, both nuclear and conventional, both in this hemisphere and throughout the world. It would not be going too far to say that of all the major countries on Earth, there is none more dedicated to arms control and more opposed to militarism than Mexico.</p>, <p>The leaders of this great country have taken an extremely important initiative in the Treaty of Tlatelolco, a treaty that was signed here at this place. This effort to make this region of the entire world into a nuclear weapons-free zone is one of the most creative steps that any country has taken since the invention of these terrible weapons of nuclear destruction.</p>, <p>Your approach is both visionary and practical, a difficult combination to achieve. I hope and I trust that it will serve as a model for other regions on Earth. And in the United Nations and elsewhere, you have [been]<sup>1</sup> similarly creative in trying to stanch the spread of conventional arms.</p>, <p><sup>1</sup> Printed in the transcript.</p>, <p>We welcome Mexico\\'s advocacy of these issues. Though our two countries may not agree with each other in every particular, there is a sense of shared concern and shared values which underline our relationships.</p>, <p>In the spirit of mutual respect and mutual regard and with great admiration, Mr. President, I look forward to continuing to work with you toward a world community of justice, diversity, and peace.</p>, <p>And now, I would like to propose a toast, Mr. President: First, to the health of the President of Mexico and to Mrs. Lopez Portillo, to the continuing friendship and cooperation of the peoples of Mexico and the peoples of the United States of America, and to what we most desire, peace throughout the world.<br/><br/>\\nThank you.</p>]'"
      ]
     },
     "metadata": {},
     "execution_count": 89
    }
   ],
   "metadata": {}
  },
  {
   "cell_type": "code",
   "execution_count": 90,
   "source": [
    "import re\n",
    "def ensure_correct_speaker(cleaned_string):\n",
    "    matches = re.findall(r'[A-Z ]', cleaned_string)\n",
    "    if matches:\n",
    "        if len(matches) == 1:\n",
    "            matches = matches[0]\n",
    "            if \"PRESIDENT:\" in matches:\n",
    "                return cleaned_string.replace(matches+\" \",\"\")\n",
    "    else:\n",
    "        return cleaned_string\n"
   ],
   "outputs": [],
   "metadata": {}
  },
  {
   "cell_type": "code",
   "execution_count": 173,
   "source": [
    "def ensure_no_other_speakers(speech):\n",
    "    matches = re.findall(r'\\b[A-Z\\s]+\\b[:.]', speech)\n",
    "    if len(matches) <= 1:\n",
    "        if matches: \n",
    "            speaker = matches[0]\n",
    "            if \"PRESIDENT\" in speaker: \n",
    "                return speech.replace(speaker,'')[1:] \n",
    "        else:\n",
    "            return speech\n"
   ],
   "outputs": [],
   "metadata": {}
  },
  {
   "cell_type": "code",
   "execution_count": 174,
   "source": [
    "ensure_no_other_speakers(\"PRESIDENT: Thanks\")"
   ],
   "outputs": [
    {
     "output_type": "execute_result",
     "data": {
      "text/plain": [
       "'Thanks'"
      ]
     },
     "metadata": {},
     "execution_count": 174
    }
   ],
   "metadata": {}
  },
  {
   "cell_type": "code",
   "execution_count": 175,
   "source": [
    "ensure_no_other_speakers(\"MARCY. Thank you.\")"
   ],
   "outputs": [],
   "metadata": {}
  },
  {
   "cell_type": "code",
   "execution_count": 176,
   "source": [
    "def parse_dictation(dictation):\n",
    "    dictation = remove_html_tags(dictation)\n",
    "    return ensure_no_other_speakers(dictation)"
   ],
   "outputs": [],
   "metadata": {}
  },
  {
   "cell_type": "code",
   "execution_count": 227,
   "source": [
    "df = df[['president','speech_title','speech']]\n",
    "\n",
    "samples = []\n",
    "for index, row in df.iterrows():\n",
    "    speech = [x for x in row['speech'].replace(\"[\",\"\").replace(\"[\",\"\").split(\"<p>\") if x != '']\n",
    "    name = row['president']\n",
    "    for dictation in speech:\n",
    "        parsed_dictation = parse_dictation(dictation)\n",
    "        if parsed_dictation:\n",
    "            samples.append({\"speaker\":name, \"text\":parsed_dictation})\n",
    "\n",
    "pd.DataFrame(samples).to_csv('data/cleaned.csv')"
   ],
   "outputs": [
    {
     "output_type": "error",
     "ename": "KeyboardInterrupt",
     "evalue": "",
     "traceback": [
      "\u001b[0;31m---------------------------------------------------------------------------\u001b[0m",
      "\u001b[0;31mKeyboardInterrupt\u001b[0m                         Traceback (most recent call last)",
      "Cell \u001b[0;32mIn[227], line 8\u001b[0m\n\u001b[1;32m      6\u001b[0m name \u001b[38;5;241m=\u001b[39m row[\u001b[38;5;124m'\u001b[39m\u001b[38;5;124mpresident\u001b[39m\u001b[38;5;124m'\u001b[39m]\n\u001b[1;32m      7\u001b[0m \u001b[38;5;28;01mfor\u001b[39;00m dictation \u001b[38;5;129;01min\u001b[39;00m speech:\n\u001b[0;32m----> 8\u001b[0m     parsed_dictation \u001b[38;5;241m=\u001b[39m \u001b[43mparse_dictation\u001b[49m\u001b[43m(\u001b[49m\u001b[43mdictation\u001b[49m\u001b[43m)\u001b[49m\n\u001b[1;32m      9\u001b[0m     \u001b[38;5;28;01mif\u001b[39;00m parsed_dictation:\n\u001b[1;32m     10\u001b[0m         samples\u001b[38;5;241m.\u001b[39mappend({\u001b[38;5;124m\"\u001b[39m\u001b[38;5;124mspeaker\u001b[39m\u001b[38;5;124m\"\u001b[39m:name, \u001b[38;5;124m\"\u001b[39m\u001b[38;5;124mtext\u001b[39m\u001b[38;5;124m\"\u001b[39m:parsed_dictation})\n",
      "Cell \u001b[0;32mIn[176], line 2\u001b[0m, in \u001b[0;36mparse_dictation\u001b[0;34m(dictation)\u001b[0m\n\u001b[1;32m      1\u001b[0m \u001b[38;5;28;01mdef\u001b[39;00m \u001b[38;5;21mparse_dictation\u001b[39m(dictation):\n\u001b[0;32m----> 2\u001b[0m     dictation \u001b[38;5;241m=\u001b[39m \u001b[43mremove_html_tags\u001b[49m\u001b[43m(\u001b[49m\u001b[43mdictation\u001b[49m\u001b[43m)\u001b[49m\n\u001b[1;32m      3\u001b[0m     \u001b[38;5;28;01mreturn\u001b[39;00m ensure_no_other_speakers(dictation)\n",
      "Cell \u001b[0;32mIn[45], line 4\u001b[0m, in \u001b[0;36mremove_html_tags\u001b[0;34m(input_string)\u001b[0m\n\u001b[1;32m      3\u001b[0m \u001b[38;5;28;01mdef\u001b[39;00m \u001b[38;5;21mremove_html_tags\u001b[39m(input_string):\n\u001b[0;32m----> 4\u001b[0m     soup \u001b[38;5;241m=\u001b[39m \u001b[43mBeautifulSoup\u001b[49m\u001b[43m(\u001b[49m\u001b[43minput_string\u001b[49m\u001b[43m,\u001b[49m\u001b[43m \u001b[49m\u001b[38;5;124;43m\"\u001b[39;49m\u001b[38;5;124;43mhtml.parser\u001b[39;49m\u001b[38;5;124;43m\"\u001b[39;49m\u001b[43m)\u001b[49m\n\u001b[1;32m      5\u001b[0m     cleaned_string \u001b[38;5;241m=\u001b[39m soup\u001b[38;5;241m.\u001b[39mget_text()\n\u001b[1;32m      6\u001b[0m     \u001b[38;5;28;01mif\u001b[39;00m cleaned_string[\u001b[38;5;241m-\u001b[39m\u001b[38;5;241m2\u001b[39m:] \u001b[38;5;241m==\u001b[39m \u001b[38;5;124m\"\u001b[39m\u001b[38;5;124m, \u001b[39m\u001b[38;5;124m\"\u001b[39m:\n",
      "File \u001b[0;32m~/Documents/presidential_sentiment/pres_sent/lib/python3.9/site-packages/bs4/__init__.py:335\u001b[0m, in \u001b[0;36mBeautifulSoup.__init__\u001b[0;34m(self, markup, features, builder, parse_only, from_encoding, exclude_encodings, element_classes, **kwargs)\u001b[0m\n\u001b[1;32m    333\u001b[0m \u001b[38;5;28mself\u001b[39m\u001b[38;5;241m.\u001b[39mbuilder\u001b[38;5;241m.\u001b[39minitialize_soup(\u001b[38;5;28mself\u001b[39m)\n\u001b[1;32m    334\u001b[0m \u001b[38;5;28;01mtry\u001b[39;00m:\n\u001b[0;32m--> 335\u001b[0m     \u001b[38;5;28;43mself\u001b[39;49m\u001b[38;5;241;43m.\u001b[39;49m\u001b[43m_feed\u001b[49m\u001b[43m(\u001b[49m\u001b[43m)\u001b[49m\n\u001b[1;32m    336\u001b[0m     success \u001b[38;5;241m=\u001b[39m \u001b[38;5;28;01mTrue\u001b[39;00m\n\u001b[1;32m    337\u001b[0m     \u001b[38;5;28;01mbreak\u001b[39;00m\n",
      "File \u001b[0;32m~/Documents/presidential_sentiment/pres_sent/lib/python3.9/site-packages/bs4/__init__.py:478\u001b[0m, in \u001b[0;36mBeautifulSoup._feed\u001b[0;34m(self)\u001b[0m\n\u001b[1;32m    475\u001b[0m \u001b[38;5;66;03m# Convert the document to Unicode.\u001b[39;00m\n\u001b[1;32m    476\u001b[0m \u001b[38;5;28mself\u001b[39m\u001b[38;5;241m.\u001b[39mbuilder\u001b[38;5;241m.\u001b[39mreset()\n\u001b[0;32m--> 478\u001b[0m \u001b[38;5;28;43mself\u001b[39;49m\u001b[38;5;241;43m.\u001b[39;49m\u001b[43mbuilder\u001b[49m\u001b[38;5;241;43m.\u001b[39;49m\u001b[43mfeed\u001b[49m\u001b[43m(\u001b[49m\u001b[38;5;28;43mself\u001b[39;49m\u001b[38;5;241;43m.\u001b[39;49m\u001b[43mmarkup\u001b[49m\u001b[43m)\u001b[49m\n\u001b[1;32m    479\u001b[0m \u001b[38;5;66;03m# Close out any unfinished strings and close all the open tags.\u001b[39;00m\n\u001b[1;32m    480\u001b[0m \u001b[38;5;28mself\u001b[39m\u001b[38;5;241m.\u001b[39mendData()\n",
      "File \u001b[0;32m~/Documents/presidential_sentiment/pres_sent/lib/python3.9/site-packages/bs4/builder/_htmlparser.py:380\u001b[0m, in \u001b[0;36mHTMLParserTreeBuilder.feed\u001b[0;34m(self, markup)\u001b[0m\n\u001b[1;32m    378\u001b[0m parser\u001b[38;5;241m.\u001b[39msoup \u001b[38;5;241m=\u001b[39m \u001b[38;5;28mself\u001b[39m\u001b[38;5;241m.\u001b[39msoup\n\u001b[1;32m    379\u001b[0m \u001b[38;5;28;01mtry\u001b[39;00m:\n\u001b[0;32m--> 380\u001b[0m     \u001b[43mparser\u001b[49m\u001b[38;5;241;43m.\u001b[39;49m\u001b[43mfeed\u001b[49m\u001b[43m(\u001b[49m\u001b[43mmarkup\u001b[49m\u001b[43m)\u001b[49m\n\u001b[1;32m    381\u001b[0m \u001b[38;5;28;01mexcept\u001b[39;00m \u001b[38;5;167;01mAssertionError\u001b[39;00m \u001b[38;5;28;01mas\u001b[39;00m e:\n\u001b[1;32m    382\u001b[0m     \u001b[38;5;66;03m# html.parser raises AssertionError in rare cases to\u001b[39;00m\n\u001b[1;32m    383\u001b[0m     \u001b[38;5;66;03m# indicate a fatal problem with the markup, especially\u001b[39;00m\n\u001b[1;32m    384\u001b[0m     \u001b[38;5;66;03m# when there's an error in the doctype declaration.\u001b[39;00m\n\u001b[1;32m    385\u001b[0m     \u001b[38;5;28;01mraise\u001b[39;00m ParserRejectedMarkup(e)\n",
      "File \u001b[0;32m~/miniforge3/lib/python3.9/html/parser.py:110\u001b[0m, in \u001b[0;36mHTMLParser.feed\u001b[0;34m(self, data)\u001b[0m\n\u001b[1;32m    104\u001b[0m \u001b[38;5;250m\u001b[39m\u001b[38;5;124mr\u001b[39m\u001b[38;5;124;03m\"\"\"Feed data to the parser.\u001b[39;00m\n\u001b[1;32m    105\u001b[0m \n\u001b[1;32m    106\u001b[0m \u001b[38;5;124;03mCall this as often as you want, with as little or as much text\u001b[39;00m\n\u001b[1;32m    107\u001b[0m \u001b[38;5;124;03mas you want (may include '\\n').\u001b[39;00m\n\u001b[1;32m    108\u001b[0m \u001b[38;5;124;03m\"\"\"\u001b[39;00m\n\u001b[1;32m    109\u001b[0m \u001b[38;5;28mself\u001b[39m\u001b[38;5;241m.\u001b[39mrawdata \u001b[38;5;241m=\u001b[39m \u001b[38;5;28mself\u001b[39m\u001b[38;5;241m.\u001b[39mrawdata \u001b[38;5;241m+\u001b[39m data\n\u001b[0;32m--> 110\u001b[0m \u001b[38;5;28;43mself\u001b[39;49m\u001b[38;5;241;43m.\u001b[39;49m\u001b[43mgoahead\u001b[49m\u001b[43m(\u001b[49m\u001b[38;5;241;43m0\u001b[39;49m\u001b[43m)\u001b[49m\n",
      "File \u001b[0;32m~/miniforge3/lib/python3.9/html/parser.py:170\u001b[0m, in \u001b[0;36mHTMLParser.goahead\u001b[0;34m(self, end)\u001b[0m\n\u001b[1;32m    168\u001b[0m \u001b[38;5;28;01mif\u001b[39;00m startswith(\u001b[38;5;124m'\u001b[39m\u001b[38;5;124m<\u001b[39m\u001b[38;5;124m'\u001b[39m, i):\n\u001b[1;32m    169\u001b[0m     \u001b[38;5;28;01mif\u001b[39;00m starttagopen\u001b[38;5;241m.\u001b[39mmatch(rawdata, i): \u001b[38;5;66;03m# < + letter\u001b[39;00m\n\u001b[0;32m--> 170\u001b[0m         k \u001b[38;5;241m=\u001b[39m \u001b[38;5;28;43mself\u001b[39;49m\u001b[38;5;241;43m.\u001b[39;49m\u001b[43mparse_starttag\u001b[49m\u001b[43m(\u001b[49m\u001b[43mi\u001b[49m\u001b[43m)\u001b[49m\n\u001b[1;32m    171\u001b[0m     \u001b[38;5;28;01melif\u001b[39;00m startswith(\u001b[38;5;124m\"\u001b[39m\u001b[38;5;124m</\u001b[39m\u001b[38;5;124m\"\u001b[39m, i):\n\u001b[1;32m    172\u001b[0m         k \u001b[38;5;241m=\u001b[39m \u001b[38;5;28mself\u001b[39m\u001b[38;5;241m.\u001b[39mparse_endtag(i)\n",
      "File \u001b[0;32m~/miniforge3/lib/python3.9/html/parser.py:344\u001b[0m, in \u001b[0;36mHTMLParser.parse_starttag\u001b[0;34m(self, i)\u001b[0m\n\u001b[1;32m    342\u001b[0m     \u001b[38;5;28mself\u001b[39m\u001b[38;5;241m.\u001b[39mhandle_startendtag(tag, attrs)\n\u001b[1;32m    343\u001b[0m \u001b[38;5;28;01melse\u001b[39;00m:\n\u001b[0;32m--> 344\u001b[0m     \u001b[38;5;28;43mself\u001b[39;49m\u001b[38;5;241;43m.\u001b[39;49m\u001b[43mhandle_starttag\u001b[49m\u001b[43m(\u001b[49m\u001b[43mtag\u001b[49m\u001b[43m,\u001b[49m\u001b[43m \u001b[49m\u001b[43mattrs\u001b[49m\u001b[43m)\u001b[49m\n\u001b[1;32m    345\u001b[0m     \u001b[38;5;28;01mif\u001b[39;00m tag \u001b[38;5;129;01min\u001b[39;00m \u001b[38;5;28mself\u001b[39m\u001b[38;5;241m.\u001b[39mCDATA_CONTENT_ELEMENTS:\n\u001b[1;32m    346\u001b[0m         \u001b[38;5;28mself\u001b[39m\u001b[38;5;241m.\u001b[39mset_cdata_mode(tag)\n",
      "File \u001b[0;32m~/Documents/presidential_sentiment/pres_sent/lib/python3.9/site-packages/bs4/builder/_htmlparser.py:141\u001b[0m, in \u001b[0;36mBeautifulSoupHTMLParser.handle_starttag\u001b[0;34m(self, name, attrs, handle_empty_element)\u001b[0m\n\u001b[1;32m    136\u001b[0m sourceline, sourcepos \u001b[38;5;241m=\u001b[39m \u001b[38;5;28mself\u001b[39m\u001b[38;5;241m.\u001b[39mgetpos()\n\u001b[1;32m    137\u001b[0m tag \u001b[38;5;241m=\u001b[39m \u001b[38;5;28mself\u001b[39m\u001b[38;5;241m.\u001b[39msoup\u001b[38;5;241m.\u001b[39mhandle_starttag(\n\u001b[1;32m    138\u001b[0m     name, \u001b[38;5;28;01mNone\u001b[39;00m, \u001b[38;5;28;01mNone\u001b[39;00m, attr_dict, sourceline\u001b[38;5;241m=\u001b[39msourceline,\n\u001b[1;32m    139\u001b[0m     sourcepos\u001b[38;5;241m=\u001b[39msourcepos\n\u001b[1;32m    140\u001b[0m )\n\u001b[0;32m--> 141\u001b[0m \u001b[38;5;28;01mif\u001b[39;00m tag \u001b[38;5;129;01mand\u001b[39;00m tag\u001b[38;5;241m.\u001b[39mis_empty_element \u001b[38;5;129;01mand\u001b[39;00m handle_empty_element:\n\u001b[1;32m    142\u001b[0m     \u001b[38;5;66;03m# Unlike other parsers, html.parser doesn't send separate end tag\u001b[39;00m\n\u001b[1;32m    143\u001b[0m     \u001b[38;5;66;03m# events for empty-element tags. (It's handled in\u001b[39;00m\n\u001b[1;32m    144\u001b[0m     \u001b[38;5;66;03m# handle_startendtag, but only if the original markup looked like\u001b[39;00m\n\u001b[1;32m    145\u001b[0m     \u001b[38;5;66;03m# <tag/>.)\u001b[39;00m\n\u001b[1;32m    146\u001b[0m     \u001b[38;5;66;03m#\u001b[39;00m\n\u001b[1;32m    147\u001b[0m     \u001b[38;5;66;03m# So we need to call handle_endtag() ourselves. Since we\u001b[39;00m\n\u001b[1;32m    148\u001b[0m     \u001b[38;5;66;03m# know the start event is identical to the end event, we\u001b[39;00m\n\u001b[1;32m    149\u001b[0m     \u001b[38;5;66;03m# don't want handle_endtag() to cross off any previous end\u001b[39;00m\n\u001b[1;32m    150\u001b[0m     \u001b[38;5;66;03m# events for tags of this name.\u001b[39;00m\n\u001b[1;32m    151\u001b[0m     \u001b[38;5;28mself\u001b[39m\u001b[38;5;241m.\u001b[39mhandle_endtag(name, check_already_closed\u001b[38;5;241m=\u001b[39m\u001b[38;5;28;01mFalse\u001b[39;00m)\n\u001b[1;32m    153\u001b[0m     \u001b[38;5;66;03m# But we might encounter an explicit closing tag for this tag\u001b[39;00m\n\u001b[1;32m    154\u001b[0m     \u001b[38;5;66;03m# later on. If so, we want to ignore it.\u001b[39;00m\n",
      "File \u001b[0;32m~/Documents/presidential_sentiment/pres_sent/lib/python3.9/site-packages/bs4/element.py:1586\u001b[0m, in \u001b[0;36mTag.__bool__\u001b[0;34m(self)\u001b[0m\n\u001b[1;32m   1583\u001b[0m \u001b[38;5;28;01mdef\u001b[39;00m \u001b[38;5;21m__contains__\u001b[39m(\u001b[38;5;28mself\u001b[39m, x):\n\u001b[1;32m   1584\u001b[0m     \u001b[38;5;28;01mreturn\u001b[39;00m x \u001b[38;5;129;01min\u001b[39;00m \u001b[38;5;28mself\u001b[39m\u001b[38;5;241m.\u001b[39mcontents\n\u001b[0;32m-> 1586\u001b[0m \u001b[38;5;28;01mdef\u001b[39;00m \u001b[38;5;21m__bool__\u001b[39m(\u001b[38;5;28mself\u001b[39m):\n\u001b[1;32m   1587\u001b[0m     \u001b[38;5;124m\"\u001b[39m\u001b[38;5;124mA tag is non-None even if it has no contents.\u001b[39m\u001b[38;5;124m\"\u001b[39m\n\u001b[1;32m   1588\u001b[0m     \u001b[38;5;28;01mreturn\u001b[39;00m \u001b[38;5;28;01mTrue\u001b[39;00m\n",
      "\u001b[0;31mKeyboardInterrupt\u001b[0m: "
     ]
    }
   ],
   "metadata": {}
  },
  {
   "cell_type": "code",
   "execution_count": 251,
   "source": [
    "def assemble_prompt(text, speaker):\n",
    "    prompt = f\"\"\"You are a helpful assistant that helps analyze the sentiment of US presidents. Below is an excerpt from a speech by a US president.\\n\\nSpeaker: {speaker}\\n\\nExcerpt:\\n{text}\\n\\nIf the sentiment of the excerpt is negative, reply with NEG. Otherwise reply with NONE.\"\"\"\n",
    "    return prompt"
   ],
   "outputs": [],
   "metadata": {}
  },
  {
   "cell_type": "code",
   "execution_count": 252,
   "source": [
    "from numpy import random\n",
    "\n",
    "data = []\n",
    "for i in range(2):\n",
    "    text = random.choice(samples)\n",
    "    excerpt = text[\"text\"]\n",
    "    speaker = text[\"speaker\"]\n",
    "    prompt = assemble_prompt(excerpt, speaker)\n",
    "    print(prompt)\n",
    "    response = prompt_llama2(prompt)\n",
    "    data.append({\"text\":excerpt, \"speaker\":speaker,\"sentiment\":response})\n"
   ],
   "outputs": [
    {
     "output_type": "stream",
     "name": "stdout",
     "text": [
      "You are a helpful assistant that helps analyze the sentiment of US presidents. Below is an excerpt from a speech by a US president.\n",
      "\n",
      "Speaker: Donald J. Trump\n",
      "\n",
      "Excerpt:\n",
      "But oil is getting to a point where, I mean, there are some areas—some people would say the water is more valuable than the oil. You never thought you're going to see that. You never thought having covered—I know you cover it—you never thought you'd be seeing oil at $20 a barrel, but how about $10 a barrel? That you never thought you'd see.\n",
      "\n",
      "\n",
      "If the sentiment of the excerpt is negative, reply with NEG. Otherwise reply with NONE.\n",
      "You are a helpful assistant that helps analyze the sentiment of US presidents. Below is an excerpt from a speech by a US president.\n",
      "\n",
      "Speaker: Mike Pence\n",
      "\n",
      "Excerpt:\n",
      "It's amazing.\n",
      "\n",
      "\n",
      "If the sentiment of the excerpt is negative, reply with NEG. Otherwise reply with NONE.\n"
     ]
    }
   ],
   "metadata": {}
  },
  {
   "cell_type": "code",
   "execution_count": 253,
   "source": [
    "data"
   ],
   "outputs": [
    {
     "output_type": "execute_result",
     "data": {
      "text/plain": [
       "[{'text': \"But oil is getting to a point where, I mean, there are some areas—some people would say the water is more valuable than the oil. You never thought you're going to see that. You never thought having covered—I know you cover it—you never thought you'd be seeing oil at $20 a barrel, but how about $10 a barrel? That you never thought you'd see.\\n\",\n",
       "  'speaker': 'Donald J. Trump',\n",
       "  'sentiment': 'The sentiment of the excerpt is NONE because it is neutral. It simply states a fact about the price of oil and does not express any emotion or opinion.'},\n",
       " {'text': \"It's amazing.\\n\", 'speaker': 'Mike Pence', 'sentiment': 'NONE'}]"
      ]
     },
     "metadata": {},
     "execution_count": 253
    }
   ],
   "metadata": {}
  },
  {
   "cell_type": "code",
   "execution_count": 81,
   "source": [
    "prompt_llama2(prompt+\"This country is a mess\")"
   ],
   "outputs": [
    {
     "output_type": "execute_result",
     "data": {
      "text/plain": [
       "'NEG'"
      ]
     },
     "metadata": {},
     "execution_count": 81
    }
   ],
   "metadata": {}
  },
  {
   "cell_type": "code",
   "execution_count": null,
   "source": [],
   "outputs": [],
   "metadata": {}
  },
  {
   "cell_type": "code",
   "execution_count": 1,
   "source": [
    "from transformers import pipeline\n",
    "\n",
    "model_path = \"cardiffnlp/twitter-roberta-base-sentiment-latest\"\n",
    "\n",
    "sentiment_task = pipeline(\"sentiment-analysis\", model=model_path, tokenizer=model_path)\n",
    "sentiment_task(\"Covid cases are increasing fast!\")\n"
   ],
   "outputs": [
    {
     "output_type": "stream",
     "name": "stderr",
     "text": [
      "/Users/sangersteel/Documents/presidential_sentiment/pres_sent/lib/python3.9/site-packages/tqdm/auto.py:21: TqdmWarning: IProgress not found. Please update jupyter and ipywidgets. See https://ipywidgets.readthedocs.io/en/stable/user_install.html\n",
      "  from .autonotebook import tqdm as notebook_tqdm\n",
      "Downloading pytorch_model.bin: 100%|██████████| 501M/501M [00:25<00:00, 19.8MB/s]\n",
      "Some weights of the model checkpoint at cardiffnlp/twitter-roberta-base-sentiment-latest were not used when initializing RobertaForSequenceClassification: ['roberta.pooler.dense.bias', 'roberta.pooler.dense.weight']\n",
      "- This IS expected if you are initializing RobertaForSequenceClassification from the checkpoint of a model trained on another task or with another architecture (e.g. initializing a BertForSequenceClassification model from a BertForPreTraining model).\n",
      "- This IS NOT expected if you are initializing RobertaForSequenceClassification from the checkpoint of a model that you expect to be exactly identical (initializing a BertForSequenceClassification model from a BertForSequenceClassification model).\n",
      "Downloading (…)olve/main/vocab.json: 100%|██████████| 899k/899k [00:00<00:00, 11.2MB/s]\n",
      "Downloading (…)olve/main/merges.txt: 100%|██████████| 456k/456k [00:00<00:00, 9.31MB/s]\n",
      "Downloading (…)cial_tokens_map.json: 100%|██████████| 239/239 [00:00<00:00, 138kB/s]\n",
      "Xformers is not installed correctly. If you want to use memory_efficient_attention to accelerate training use the following command to install Xformers\n",
      "pip install xformers.\n"
     ]
    },
    {
     "output_type": "execute_result",
     "data": {
      "text/plain": [
       "[{'label': 'negative', 'score': 0.7235761880874634}]"
      ]
     },
     "metadata": {},
     "execution_count": 1
    }
   ],
   "metadata": {}
  },
  {
   "cell_type": "code",
   "execution_count": null,
   "source": [],
   "outputs": [],
   "metadata": {}
  }
 ],
 "metadata": {
  "orig_nbformat": 4,
  "language_info": {
   "name": "python",
   "version": "3.9.5",
   "mimetype": "text/x-python",
   "codemirror_mode": {
    "name": "ipython",
    "version": 3
   },
   "pygments_lexer": "ipython3",
   "nbconvert_exporter": "python",
   "file_extension": ".py"
  },
  "kernelspec": {
   "name": "python3",
   "display_name": "Python 3.9.5 64-bit ('pres_sent')"
  },
  "interpreter": {
   "hash": "7ac63b7a5060d285166f4b4b5c6c4135ee730b8356e68f8fb2e28b68c45f311c"
  }
 },
 "nbformat": 4,
 "nbformat_minor": 2
}